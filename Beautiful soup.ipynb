{
 "cells": [
  {
   "cell_type": "code",
   "execution_count": 96,
   "metadata": {},
   "outputs": [],
   "source": [
    "from bs4 import BeautifulSoup\n",
    "import requests"
   ]
  },
  {
   "cell_type": "code",
   "execution_count": 99,
   "metadata": {},
   "outputs": [
    {
     "name": "stdout",
     "output_type": "stream",
     "text": [
      "Quel compte twitter souhaitez-vous analyser?romaindillet\n",
      "romaindillet\n"
     ]
    }
   ],
   "source": [
    "twitter_base_url = \"https://twitter.com/\"\n",
    "account = input(\"Quel compte twitter souhaitez-vous analyser?\")\n",
    "print(account)\n",
    "\n",
    "url = twitter_base_url + account\n",
    "\n",
    "request_text = requests.get(url)\n",
    "\n",
    "page = BeautifulSoup(request_text.content, 'lxml')"
   ]
  },
  {
   "cell_type": "code",
   "execution_count": 135,
   "metadata": {},
   "outputs": [
    {
     "data": {
      "text/plain": [
       "[{'text': ['Watch Google Cloud Next developer conference live right herehttps://tcrn.ch/2D1MPsI'],\n",
       "  'datetime': ['1554795257', None]},\n",
       " {'text': ['Sonos partners with Ikea and announces $99 speakerhttps://tcrn.ch/2IhMtl4'],\n",
       "  'datetime': ['1554741617', None]},\n",
       " {'text': ['Twitter reverses stance and allows ad encouraging you to vote in Francehttps://ift.tt/2FVV4XQ'],\n",
       "  'datetime': ['1554400169']}]"
      ]
     },
     "execution_count": 135,
     "metadata": {},
     "output_type": "execute_result"
    }
   ],
   "source": [
    "tweets = []\n",
    "\n",
    "content = page.select('div.content')\n",
    "for tweet in content[:3]:\n",
    "    text = [p.getText().strip() for p in tweet.select('div.js-tweet-text-container')]\n",
    "    datetime = [span.attrs.get('data-time') for span in tweet.select(\"div.stream-item-header small span\")]    \n",
    "    tweets.append({\"text\":text, \"datetime\": datetime})\n",
    "    toto = [span.attrs.get('data-time') for span in tweet.select(\"a.tweet-timestamp.js-permalink.js-nav.js-tooltip span\")]\n",
    "\n",
    "\n",
    "tweets\n",
    "    "
   ]
  },
  {
   "cell_type": "code",
   "execution_count": 139,
   "metadata": {},
   "outputs": [],
   "source": [
    "import pandas as pd\n",
    "\n",
    "data = pd.DataFrame(tweets)\n",
    "\n"
   ]
  },
  {
   "cell_type": "code",
   "execution_count": 140,
   "metadata": {},
   "outputs": [
    {
     "data": {
      "text/html": [
       "<div>\n",
       "<style scoped>\n",
       "    .dataframe tbody tr th:only-of-type {\n",
       "        vertical-align: middle;\n",
       "    }\n",
       "\n",
       "    .dataframe tbody tr th {\n",
       "        vertical-align: top;\n",
       "    }\n",
       "\n",
       "    .dataframe thead th {\n",
       "        text-align: right;\n",
       "    }\n",
       "</style>\n",
       "<table border=\"1\" class=\"dataframe\">\n",
       "  <thead>\n",
       "    <tr style=\"text-align: right;\">\n",
       "      <th></th>\n",
       "      <th>datetime</th>\n",
       "      <th>text</th>\n",
       "    </tr>\n",
       "  </thead>\n",
       "  <tbody>\n",
       "    <tr>\n",
       "      <th>0</th>\n",
       "      <td>[1554795257, None]</td>\n",
       "      <td>[Watch Google Cloud Next developer conference ...</td>\n",
       "    </tr>\n",
       "    <tr>\n",
       "      <th>1</th>\n",
       "      <td>[1554741617, None]</td>\n",
       "      <td>[Sonos partners with Ikea and announces $99 sp...</td>\n",
       "    </tr>\n",
       "    <tr>\n",
       "      <th>2</th>\n",
       "      <td>[1554400169]</td>\n",
       "      <td>[Twitter reverses stance and allows ad encoura...</td>\n",
       "    </tr>\n",
       "  </tbody>\n",
       "</table>\n",
       "</div>"
      ],
      "text/plain": [
       "             datetime                                               text\n",
       "0  [1554795257, None]  [Watch Google Cloud Next developer conference ...\n",
       "1  [1554741617, None]  [Sonos partners with Ikea and announces $99 sp...\n",
       "2        [1554400169]  [Twitter reverses stance and allows ad encoura..."
      ]
     },
     "execution_count": 140,
     "metadata": {},
     "output_type": "execute_result"
    }
   ],
   "source": [
    "data"
   ]
  },
  {
   "cell_type": "code",
   "execution_count": null,
   "metadata": {},
   "outputs": [],
   "source": []
  }
 ],
 "metadata": {
  "kernelspec": {
   "display_name": "Python 3",
   "language": "python",
   "name": "python3"
  },
  "language_info": {
   "codemirror_mode": {
    "name": "ipython",
    "version": 3
   },
   "file_extension": ".py",
   "mimetype": "text/x-python",
   "name": "python",
   "nbconvert_exporter": "python",
   "pygments_lexer": "ipython3",
   "version": "3.6.8"
  }
 },
 "nbformat": 4,
 "nbformat_minor": 2
}
