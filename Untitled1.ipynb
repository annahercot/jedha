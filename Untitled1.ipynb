{
 "cells": [
  {
   "cell_type": "code",
   "execution_count": null,
   "metadata": {},
   "outputs": [],
   "source": [
    "list = range(0,10)\n",
    "n = int(input(\"vérifier ce numéro: \"))\n",
    "a = list[0]\n",
    "b = list[-1]\n",
    "m = (a+b)/2\n",
    "while n != m:\n",
    "    m = (a+b)/2\n",
    "\n",
    "    if m>n:\n",
    "        b = round(m)\n",
    "        print(b)\n",
    "    if m<n:\n",
    "        a = round(m)\n",
    "        print(a)\n",
    "    if a > b:\n",
    "        print(\"not in list\")\n",
    "        break\n",
    "        \n",
    "        \n",
    "if n == m:\n",
    "    print(\"ok\")"
   ]
  },
  {
   "cell_type": "code",
   "execution_count": 62,
   "metadata": {},
   "outputs": [
    {
     "name": "stdout",
     "output_type": "stream",
     "text": [
      "Nb de coupe du monde ?1\n",
      "Dommage, il te reste 2 chances\n",
      "Nb de coupe du monde ?1\n",
      "Dommage, il te reste 1 chances\n",
      "Nb de coupe du monde ?1\n",
      "perdu\n"
     ]
    }
   ],
   "source": [
    "chances = 2\n",
    "\n",
    "while chances > 0:\n",
    "    q1 = input(\"Nb de coupe du monde ?\")\n",
    "    while q1 != \"2\" and chances > 0:\n",
    "        chances -= 1\n",
    "        print(\"Dommage, il te reste {} chances\".format(chances + 1))\n",
    "        q1 = input(\"Nb de coupe du monde ?\")\n",
    "    if chances == 0:\n",
    "        print(\"perdu\")\n",
    "        break\n",
    "        \n",
    "    q2 = input(\"Quel language de programmation pour data science ?\") \n",
    "    while q2 != \"python\" and chances > 0:           \n",
    "        chances -= 1\n",
    "        print(\"Dommage, il te reste {} chances\".format(chances + 1))\n",
    "        q2 = input(\"Quel language de programmation pour data science ?\") \n",
    "    if chances == 0:\n",
    "        print(\"perdu\")\n",
    "        break        \n",
    "\n",
    "    q3 = input(\"Qui a fondé Apple ?\")\n",
    "    while q3 != \"Jobs\" and chances > 0:\n",
    "        chances -= 1\n",
    "        print(\"Dommage, il te reste {} chances\".format(chances + 1)) \n",
    "        q3 = input(\"Qui a fondé Apple ?\")\n",
    "    if chances == 0:\n",
    "        print(\"perdu\")\n",
    "        break        \n",
    "\n",
    "    print(\"gagné !\")\n",
    "    break\n",
    "    \n",
    "        "
   ]
  },
  {
   "cell_type": "code",
   "execution_count": 108,
   "metadata": {},
   "outputs": [
    {
     "name": "stdout",
     "output_type": "stream",
     "text": [
      "Nb de coupe du monde ?2\n",
      "Quel language de programmation pour data science ?python\n",
      "Qui a fondé Apple ?jobs\n",
      "gagné !\n"
     ]
    }
   ],
   "source": [
    "chances = 2\n",
    "\n",
    "questions = {\"Nb de coupe du monde ?\": \"2\", \"Quel language de programmation pour data science ?\": \"python\", \"Qui a fondé Apple ?\": \"jobs\"}\n",
    "\n",
    "for q, a in questions.items():\n",
    "    b = input(q)\n",
    "    while b != a and chances > 0:\n",
    "        chances -= 1\n",
    "        print(\"Dommage, il te reste {} chances\".format(chances + 1))\n",
    "        input(q)\n",
    "    if chances == 0:\n",
    "        print(\"perdu\")\n",
    "        break\n",
    "        \n",
    "if chances > 0:\n",
    "        print(\"gagné !\")\n",
    "        "
   ]
  }
 ],
 "metadata": {
  "kernelspec": {
   "display_name": "Python 3",
   "language": "python",
   "name": "python3"
  }
 },
 "nbformat": 4,
 "nbformat_minor": 2
}
