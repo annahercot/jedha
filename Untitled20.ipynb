{
 "cells": [
  {
   "cell_type": "code",
   "execution_count": 2,
   "metadata": {},
   "outputs": [],
   "source": [
    "from selenium import webdriver\n",
    "from time import sleep\n",
    "import pandas as pd\n",
    "import numpy as np\n"
   ]
  },
  {
   "cell_type": "code",
   "execution_count": 82,
   "metadata": {},
   "outputs": [],
   "source": [
    "driver = webdriver.Chrome(\"/Applications/chromedriver\")"
   ]
  },
  {
   "cell_type": "code",
   "execution_count": 83,
   "metadata": {},
   "outputs": [],
   "source": [
    "driver.get(\"https://www.yelp.com/search?find_desc=fine+dining&find_loc=Paris%2C+France\")"
   ]
  },
  {
   "cell_type": "code",
   "execution_count": 84,
   "metadata": {},
   "outputs": [],
   "source": [
    "restaurants = driver.find_elements_by_css_selector(\"li.lemon--li__373c0__1r9wz\")"
   ]
  },
  {
   "cell_type": "code",
   "execution_count": 85,
   "metadata": {},
   "outputs": [
    {
     "name": "stdout",
     "output_type": "stream",
     "text": [
      "1. Le Comptoir de la Gastronomie\n",
      "2. L’Atelier de Joël Robuchon\n",
      "3. Le Meurice by Alain Ducasse\n",
      "\n",
      "\n",
      "\n",
      "7. Les Cocottes\n",
      "8. Les Philosophes\n",
      "9. Frenchie Restaurant\n",
      "\n",
      "\n",
      "\n",
      "\n"
     ]
    }
   ],
   "source": [
    "for restaurant in restaurants:\n",
    "    if restaurant.text:\n",
    "        try:\n",
    "            name = restaurant.find_element_by_css_selector('h3').text\n",
    "            address = restaurant.find_element_by_css_selector('address').text\n",
    "            rating = restaurant.find_element_by_class_name('i-stars__373c0__30xVZ').get_attribute(\"aria-label\")\n",
    "            #sleep(np.random.randint(2,5))\n",
    "            print(name)\n",
    "        except:\n",
    "            print('')\n",
    "            "
   ]
  },
  {
   "cell_type": "code",
   "execution_count": 75,
   "metadata": {},
   "outputs": [],
   "source": [
    "\n",
    "for restaurant in restaurants:\n",
    "    if restaurant.text:\n",
    "        try:        \n",
    "            sleep(np.random.randint(2,5))\n",
    "            restaurant.find_element_by_css_selector('h3').click()\n",
    "            driver.find_element_by_css_selector(\".war-button\").click()\n",
    "            driver.find_element_by_tag_name('textarea').send_keys(\"Bonjour, je suis allé dans ce restaurant hier, c'était trop chouette\")\n",
    "            driver.find_element_by_css_selector('ul.li.')\n",
    "            driver.back() \n",
    "        except:\n",
    "            print('')"
   ]
  },
  {
   "cell_type": "code",
   "execution_count": null,
   "metadata": {},
   "outputs": [],
   "source": []
  }
 ],
 "metadata": {
  "kernelspec": {
   "display_name": "Python 3",
   "language": "python",
   "name": "python3"
  },
  "language_info": {
   "codemirror_mode": {
    "name": "ipython",
    "version": 3
   },
   "file_extension": ".py",
   "mimetype": "text/x-python",
   "name": "python",
   "nbconvert_exporter": "python",
   "pygments_lexer": "ipython3",
   "version": "3.6.8"
  }
 },
 "nbformat": 4,
 "nbformat_minor": 2
}
