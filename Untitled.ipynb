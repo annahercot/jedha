{
 "cells": [
  {
   "cell_type": "code",
   "execution_count": 40,
   "metadata": {},
   "outputs": [
    {
     "name": "stdout",
     "output_type": "stream",
     "text": [
      "6\n"
     ]
    }
   ],
   "source": [
    "list = range(0,7)\n",
    "a = list[0]\n",
    "b = list[-1]\n",
    "\n",
    "print(b)"
   ]
  },
  {
   "cell_type": "code",
   "execution_count": 15,
   "metadata": {},
   "outputs": [
    {
     "name": "stdout",
     "output_type": "stream",
     "text": [
      "Entrer votre n:5\n"
     ]
    }
   ],
   "source": [
    "n = input(\"Entrer votre n:\")"
   ]
  },
  {
   "cell_type": "code",
   "execution_count": 8,
   "metadata": {},
   "outputs": [
    {
     "name": "stdout",
     "output_type": "stream",
     "text": [
      "yeah!\n"
     ]
    }
   ],
   "source": []
  },
  {
   "cell_type": "code",
   "execution_count": null,
   "metadata": {},
   "outputs": [],
   "source": []
  },
  {
   "cell_type": "code",
   "execution_count": null,
   "metadata": {},
   "outputs": [],
   "source": [
    "list = range(0,10)\n",
    "n = int(input(\"vérifier ce numéro: \"))\n",
    "a = list[0]\n",
    "b = list[-1]\n",
    "m = (a+b)/2\n",
    "while n != m:\n",
    "    if m>n:\n",
    "        b = round(m)\n",
    "        print(b)\n",
    "    elif m<n:\n",
    "        a = round(m)\n",
    "        print(a)\n",
    "    m = (a+b)/2\n",
    "    elif a > b:\n",
    "        print(\"not in list\")\n",
    "        break\n",
    "        \n",
    "        \n",
    "if n == m:\n",
    "    print(\"ok\")"
   ]
  }
 ],
 "metadata": {
  "kernelspec": {
   "display_name": "Python 3",
   "language": "python",
   "name": "python3"
  },
  "language_info": {
   "codemirror_mode": {
    "name": "ipython",
    "version": 3
   },
   "file_extension": ".py",
   "mimetype": "text/x-python",
   "name": "python",
   "nbconvert_exporter": "python",
   "pygments_lexer": "ipython3",
   "version": "3.7.1"
  }
 },
 "nbformat": 4,
 "nbformat_minor": 2
}
