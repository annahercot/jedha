{
 "cells": [
  {
   "cell_type": "code",
   "execution_count": 12,
   "metadata": {},
   "outputs": [],
   "source": [
    "class Imputer:\n",
    "    def __init__(self, liste, strategy = \"mean\"):\n",
    "        self.liste = liste   \n",
    "        self.strategy = strategy\n",
    "    \n",
    "        def avg(self):\n",
    "            sum = 0\n",
    "            avg_to_insert = []\n",
    "            for i in range(len(self.liste)):\n",
    "                if self.liste[i] is None:\n",
    "                    avg_to_insert += [i]\n",
    "                else:\n",
    "                    sum += self.liste[i]\n",
    "\n",
    "            for i in avg_to_insert:\n",
    "                self.liste[i] = sum/(len(self.liste)- len(avg_to_insert))\n",
    "\n",
    "            return self.liste\n",
    "        \n",
    "        def median(self):\n",
    "            avg_to_insert = []\n",
    "            \n",
    "            for i in range(len(self.liste)):\n",
    "                if self.liste[i] is None:\n",
    "                    avg_to_insert += [i]\n",
    "                    \n",
    "            new_list = [i for i in self.liste if i is not None]\n",
    "            new_list.sort()\n",
    "            \n",
    "            if len(new_list) %2 ==0:\n",
    "                median = (new_list[len(new_list)//2] + new_list[len(new_list)//2 - 1])/2\n",
    "            else:\n",
    "                median = new_list[len(new_list)//2]\n",
    "                \n",
    "            self.liste = [median if x== None else x for x in self.liste ]\n",
    "            \n",
    "            return print(self.liste)\n",
    "                \n",
    "                \n",
    "        if self.strategy == \"mean\":\n",
    "            avg(self)\n",
    "        else:\n",
    "            median(self)\n",
    "        "
   ]
  },
  {
   "cell_type": "code",
   "execution_count": 25,
   "metadata": {},
   "outputs": [
    {
     "name": "stdout",
     "output_type": "stream",
     "text": [
      "[323, 2398, 2398, 2398, 978323]\n",
      "[323, 327014.6666666667, 2398, 327014.6666666667, 978323]\n"
     ]
    }
   ],
   "source": [
    "li = [323, None, 2398, None, 978323]\n",
    "toto = Imputer(li, \"mdn\")\n",
    "tutu = Imputer(li, \"mean\")"
   ]
  },
  {
   "cell_type": "code",
   "execution_count": 111,
   "metadata": {},
   "outputs": [
    {
     "ename": "AttributeError",
     "evalue": "'Imputer' object has no attribute 'Imputer'",
     "output_type": "error",
     "traceback": [
      "\u001b[0;31m---------------------------------------------------------------------------\u001b[0m",
      "\u001b[0;31mAttributeError\u001b[0m                            Traceback (most recent call last)",
      "\u001b[0;32m<ipython-input-111-a92cd0655312>\u001b[0m in \u001b[0;36m<module>\u001b[0;34m\u001b[0m\n\u001b[0;32m----> 1\u001b[0;31m \u001b[0mtoto\u001b[0m \u001b[0;34m=\u001b[0m \u001b[0mimputer\u001b[0m\u001b[0;34m.\u001b[0m\u001b[0mImputer\u001b[0m\u001b[0;34m(\u001b[0m\u001b[0mli\u001b[0m\u001b[0;34m,\u001b[0m \u001b[0;34m\"mean\"\u001b[0m\u001b[0;34m)\u001b[0m\u001b[0;34m\u001b[0m\u001b[0;34m\u001b[0m\u001b[0m\n\u001b[0m\u001b[1;32m      2\u001b[0m \u001b[0mtoto\u001b[0m\u001b[0;34m\u001b[0m\u001b[0;34m\u001b[0m\u001b[0m\n",
      "\u001b[0;31mAttributeError\u001b[0m: 'Imputer' object has no attribute 'Imputer'"
     ]
    }
   ],
   "source": []
  },
  {
   "cell_type": "code",
   "execution_count": 108,
   "metadata": {},
   "outputs": [
    {
     "ename": "AttributeError",
     "evalue": "'Imputer' object has no attribute 'Imputer'",
     "output_type": "error",
     "traceback": [
      "\u001b[0;31m---------------------------------------------------------------------------\u001b[0m",
      "\u001b[0;31mAttributeError\u001b[0m                            Traceback (most recent call last)",
      "\u001b[0;32m<ipython-input-108-c5875c8fd209>\u001b[0m in \u001b[0;36m<module>\u001b[0;34m\u001b[0m\n\u001b[0;32m----> 1\u001b[0;31m \u001b[0mtoto\u001b[0m \u001b[0;34m=\u001b[0m \u001b[0mimputer\u001b[0m\u001b[0;34m.\u001b[0m\u001b[0mImputer\u001b[0m\u001b[0;34m(\u001b[0m\u001b[0mli\u001b[0m\u001b[0;34m,\u001b[0m \u001b[0;34m\"mdn\"\u001b[0m\u001b[0;34m)\u001b[0m\u001b[0;34m\u001b[0m\u001b[0;34m\u001b[0m\u001b[0m\n\u001b[0m",
      "\u001b[0;31mAttributeError\u001b[0m: 'Imputer' object has no attribute 'Imputer'"
     ]
    }
   ],
   "source": [
    "toto = imputer.Imputer(li, \"mdn\")"
   ]
  },
  {
   "cell_type": "code",
   "execution_count": 92,
   "metadata": {},
   "outputs": [
    {
     "data": {
      "text/plain": [
       "[323, 2398, 327014.6666666667, 327014.6666666667, 978323]"
      ]
     },
     "execution_count": 92,
     "metadata": {},
     "output_type": "execute_result"
    }
   ],
   "source": [
    "li"
   ]
  },
  {
   "cell_type": "code",
   "execution_count": 90,
   "metadata": {},
   "outputs": [
    {
     "name": "stdout",
     "output_type": "stream",
     "text": [
      "None\n"
     ]
    }
   ],
   "source": [
    "print(li.sort())"
   ]
  },
  {
   "cell_type": "code",
   "execution_count": 91,
   "metadata": {},
   "outputs": [
    {
     "data": {
      "text/plain": [
       "327014.6666666667"
      ]
     },
     "execution_count": 91,
     "metadata": {},
     "output_type": "execute_result"
    }
   ],
   "source": [
    "li[len(li)//2]"
   ]
  },
  {
   "cell_type": "code",
   "execution_count": 85,
   "metadata": {},
   "outputs": [
    {
     "data": {
      "text/plain": [
       "327014.6666666667"
      ]
     },
     "execution_count": 85,
     "metadata": {},
     "output_type": "execute_result"
    }
   ],
   "source": [
    "li[len(li)//2 + 1]"
   ]
  },
  {
   "cell_type": "code",
   "execution_count": 87,
   "metadata": {},
   "outputs": [
    {
     "data": {
      "text/plain": [
       "490522.0"
      ]
     },
     "execution_count": 87,
     "metadata": {},
     "output_type": "execute_result"
    }
   ],
   "source": [
    "(li[len(li)//2] + li[len(li)//2 + 1] / 2 )"
   ]
  }
 ],
 "metadata": {
  "kernelspec": {
   "display_name": "Python 3",
   "language": "python",
   "name": "python3"
  },
  "language_info": {
   "codemirror_mode": {
    "name": "ipython",
    "version": 3
   },
   "file_extension": ".py",
   "mimetype": "text/x-python",
   "name": "python",
   "nbconvert_exporter": "python",
   "pygments_lexer": "ipython3",
   "version": "3.7.1"
  }
 },
 "nbformat": 4,
 "nbformat_minor": 2
}
