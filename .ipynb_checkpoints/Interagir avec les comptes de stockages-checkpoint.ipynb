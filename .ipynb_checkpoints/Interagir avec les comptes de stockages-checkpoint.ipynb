{
 "cells": [
  {
   "cell_type": "markdown",
   "metadata": {},
   "source": [
    "# Installer les librairies"
   ]
  },
  {
   "cell_type": "code",
   "execution_count": 62,
   "metadata": {
    "ExecuteTime": {
     "end_time": "2018-12-15T11:48:09.305962Z",
     "start_time": "2018-12-15T11:48:09.303546Z"
    },
    "scrolled": true
   },
   "outputs": [],
   "source": [
    "#!pip install azure-storage"
   ]
  },
  {
   "cell_type": "markdown",
   "metadata": {},
   "source": [
    "# Imports"
   ]
  },
  {
   "cell_type": "code",
   "execution_count": 1,
   "metadata": {
    "ExecuteTime": {
     "end_time": "2018-12-15T11:48:09.599117Z",
     "start_time": "2018-12-15T11:48:09.596693Z"
    }
   },
   "outputs": [],
   "source": [
    "from azure.storage.blob import BlockBlobService"
   ]
  },
  {
   "cell_type": "markdown",
   "metadata": {},
   "source": [
    "# Créer la connexion avec le compte de stockage"
   ]
  },
  {
   "cell_type": "code",
   "execution_count": 2,
   "metadata": {
    "ExecuteTime": {
     "end_time": "2018-12-15T11:48:09.885484Z",
     "start_time": "2018-12-15T11:48:09.882352Z"
    }
   },
   "outputs": [],
   "source": [
    "account_name='storagestudent'\n",
    "account_key='JJA4Rxb+KVYVilv7hEpKPukdvYrqq+IwtP2c6wsVho6IVULls2CLxH6DF1mJahCwm1C8sLyVkPNRu7I4UtxPLg=='\n",
    "\n",
    "service_blob = BlockBlobService(account_name, account_key) "
   ]
  },
  {
   "cell_type": "markdown",
   "metadata": {},
   "source": [
    "# Uploader des données"
   ]
  },
  {
   "cell_type": "code",
   "execution_count": 65,
   "metadata": {
    "ExecuteTime": {
     "end_time": "2018-12-15T11:48:10.316132Z",
     "start_time": "2018-12-15T11:48:10.173662Z"
    }
   },
   "outputs": [
    {
     "data": {
      "text/plain": [
       "<azure.storage.blob.models.ResourceProperties at 0x10f679f98>"
      ]
     },
     "execution_count": 65,
     "metadata": {},
     "output_type": "execute_result"
    }
   ],
   "source": [
    "container_name = 'default'\n",
    "source_file_path = 'test'\n",
    "destination_file_path = 'test_uploaded'\n",
    "\n",
    "service_blob.create_blob_from_path(container_name, destination_file_path, source_file_path)"
   ]
  },
  {
   "cell_type": "markdown",
   "metadata": {},
   "source": [
    "# Downloader des données"
   ]
  },
  {
   "cell_type": "code",
   "execution_count": 66,
   "metadata": {
    "ExecuteTime": {
     "end_time": "2018-12-15T11:48:11.022042Z",
     "start_time": "2018-12-15T11:48:10.958553Z"
    }
   },
   "outputs": [
    {
     "data": {
      "text/plain": [
       "<azure.storage.blob.models.Blob at 0x10f65a2b0>"
      ]
     },
     "execution_count": 66,
     "metadata": {},
     "output_type": "execute_result"
    }
   ],
   "source": [
    "container_name = 'default'\n",
    "source_file_path = 'test_uploaded'\n",
    "destination_file_path = 'test_downloaded'\n",
    "\n",
    "service_blob.get_blob_to_path(container_name, source_file_path, destination_file_path)"
   ]
  },
  {
   "cell_type": "markdown",
   "metadata": {},
   "source": [
    "# Lister les fichiers"
   ]
  },
  {
   "cell_type": "code",
   "execution_count": 67,
   "metadata": {
    "ExecuteTime": {
     "end_time": "2018-12-15T11:48:11.289041Z",
     "start_time": "2018-12-15T11:48:11.253318Z"
    }
   },
   "outputs": [
    {
     "name": "stdout",
     "output_type": "stream",
     "text": [
      "test_uploaded , last modified : 2018-12-15 11:48:10+00:00\n"
     ]
    }
   ],
   "source": [
    "container_name = 'default'\n",
    "\n",
    "for blob in service_blob.list_blobs(container_name):\n",
    "    print(blob.name, \", last modified :\", blob.properties.last_modified)"
   ]
  },
  {
   "cell_type": "code",
   "execution_count": null,
   "metadata": {},
   "outputs": [],
   "source": []
  }
 ],
 "metadata": {
  "kernelspec": {
   "display_name": "Python 3",
   "language": "python",
   "name": "python3"
  },
  "language_info": {
   "codemirror_mode": {
    "name": "ipython",
    "version": 3
   },
   "file_extension": ".py",
   "mimetype": "text/x-python",
   "name": "python",
   "nbconvert_exporter": "python",
   "pygments_lexer": "ipython3",
   "version": "3.6.8"
  }
 },
 "nbformat": 4,
 "nbformat_minor": 2
}
