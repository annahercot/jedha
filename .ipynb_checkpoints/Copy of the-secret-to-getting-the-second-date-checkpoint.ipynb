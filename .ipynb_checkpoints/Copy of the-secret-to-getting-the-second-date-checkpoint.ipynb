{
 "cells": [
  {
   "cell_type": "markdown",
   "metadata": {
    "_uuid": "9e359c453547901c416cf514071601e61a14534b",
    "colab_type": "text",
    "id": "TzJucljXvjVl",
    "slideshow": {
     "slide_type": "notes"
    }
   },
   "source": [
    "# The Secret to Getting the Second Date\n",
    "\n",
    "### *Do you believe in love at first sight, or should I walk by again? - Anonymous* \n",
    "\n",
    "An analysis on the Speed Dating dataset from Kaggle: https://www.kaggle.com/annavictoria/speed-dating-experiment\n",
    "\n",
    " \n",
    "![image](https://github.com/annaeshen/speed-dating-experiment/blob/master/speed-dating-938x625.jpg?raw=true)\n",
    "\n",
    "\n",
    "## Introduction\n",
    "\n",
    "What makes people attractive? What gets people a second date? Why isn't garlic breath a variable in this dataset?\n",
    "\n",
    "**We're about to find out.** (Hang in there, single people!)\n",
    "\n",
    "### About the data:\n",
    "* Data was gathered from 552 participants in experimental speed dating events from 2002-2004. \n",
    "* During the events, the attendees would have a four minute \"first date\" with every other participant of the opposite sex. \n",
    "* At the end of their four minutes, participants were asked if they would like to see their date again. They were also asked to rate their date on six attributes: \n",
    "  * Attractiveness\n",
    "  * Sincerity\n",
    "  * Intelligence\n",
    "  * Fun\n",
    "  * Ambition\n",
    "  * Shared Interests.\n",
    "* The dataset also includes questionnaire data gathered from participants at different points in the process. These fields include: \n",
    "  * demographics\n",
    "  * dating habits\n",
    "  * self-perception across key attributes\n",
    "  * beliefs on what others find valuable in a mate\n",
    "  * lifestyle information\n",
    "\n",
    "See the speed-dating-data-key.doc for data dictionary and question key.\n",
    "\n",
    "\n",
    "## Table of Contents\n",
    "\n",
    "I. [Data Cleaning and EDA](#cln)\n",
    "  * [Heatmap](#hm)\n",
    "  * [Interest Overlap](#io)\n",
    "  * [Decisions by Gender](#dg)\n",
    "  * [Unrequited Love](#url)\n",
    "  * [OLS Model](#ols)\n",
    "\n",
    "\n",
    "II. [Modeling](#mdl)\n",
    "  * [Logistic Regression](#log)\n",
    "  * [Random Forest](#rf)\n",
    "  * [XGBoost](#xgb)\n",
    "\n",
    "\n",
    "III. [Conclusion](#ccn)"
   ]
  },
  {
   "cell_type": "code",
   "execution_count": null,
   "metadata": {
    "_uuid": "f3270839018455f35231a8e828b43d3c3093c90d",
    "colab": {
     "autoexec": {
      "startup": false,
      "wait_interval": 0
     }
    },
    "colab_type": "code",
    "id": "omuLPHXFvjVo",
    "outputId": "ee47f654-9523-4209-88c7-c284072934c5",
    "slideshow": {
     "slide_type": "skip"
    }
   },
   "outputs": [],
   "source": [
    "# importing packages\n",
    "%matplotlib inline\n",
    "import pandas as pd\n",
    "pd.options.display.max_rows = 1000 #handy for showing truncated results\n",
    "import matplotlib.pyplot as plt\n",
    "import numpy as np\n",
    "import seaborn as sns\n",
    "import statsmodels.api as sm\n",
    "from sklearn.model_selection import train_test_split\n",
    "from sklearn.linear_model import LogisticRegression\n",
    "from sklearn.ensemble import RandomForestClassifier\n",
    "from sklearn.ensemble import GradientBoostingClassifier\n",
    "from sklearn import metrics"
   ]
  },
  {
   "cell_type": "code",
   "execution_count": null,
   "metadata": {
    "_uuid": "34a61ebceead7450a7019f37245de90a030b182f",
    "colab": {
     "autoexec": {
      "startup": false,
      "wait_interval": 0
     }
    },
    "colab_type": "code",
    "id": "nYWqL6ZTvjV2",
    "outputId": "aa8c2c41-582a-4d92-e4a5-6268b0f1b10f",
    "slideshow": {
     "slide_type": "skip"
    }
   },
   "outputs": [],
   "source": [
    "# importing data\n",
    "dating = pd.read_csv('../input/Speed Dating Data.csv', encoding=\"ISO-8859-1\") # use this encoding, funky error otherwise. thanks kagglers!\n",
    "dating.head(5)"
   ]
  },
  {
   "cell_type": "code",
   "execution_count": null,
   "metadata": {
    "_uuid": "efe3a3cf4e09eee9a5fb94bb4c03cbe6d45a48b1",
    "colab": {
     "autoexec": {
      "startup": false,
      "wait_interval": 0
     }
    },
    "colab_type": "code",
    "id": "z1cQAMqYvjV-",
    "outputId": "82e28e8e-58ac-4fc4-c942-9f6dca5b78d4",
    "slideshow": {
     "slide_type": "skip"
    }
   },
   "outputs": [],
   "source": [
    "# counting null values\n",
    "dating.isnull().sum()"
   ]
  },
  {
   "cell_type": "markdown",
   "metadata": {
    "_uuid": "41e2db2857e99ddb92c4b76855223e685580d36f",
    "colab_type": "text",
    "id": "loyzVaWRvjWI"
   },
   "source": [
    "## <a id=\"cln\"> Data Cleaning and EDA</a>\n"
   ]
  },
  {
   "cell_type": "markdown",
   "metadata": {
    "_uuid": "f1aa9ff7ec542d1c4a6dd1a1dd06d1218e526548",
    "colab_type": "text",
    "id": "nCBOV_NqvjWK"
   },
   "source": [
    "From the peek at the data we had above, there are a ton of fields with NaNs. A lot of NaNs. There are 8,378 rows and a bunch of fields have thousands of NaNs and probably bad practice to use imputation to guess the values. Instead, I'll just disregard these fields with over 4000 null values from the dataset and narrow my analysis to the fields that I can use. First though, let's take a look at some totals before we throw out some fields and rows due to missing values."
   ]
  },
  {
   "cell_type": "code",
   "execution_count": null,
   "metadata": {
    "_uuid": "04203cc73612fcbf62073d5a5e118cead5668fdc",
    "colab": {
     "autoexec": {
      "startup": false,
      "wait_interval": 0
     }
    },
    "colab_type": "code",
    "id": "4WKAcpJmvjWL",
    "outputId": "89a64a8e-9f1b-451f-9f20-5841a7202281"
   },
   "outputs": [],
   "source": [
    "# age distribution of participants\n",
    "age = dating[np.isfinite(dating['age'])]['age']\n",
    "plt.hist(age.values)\n",
    "plt.xlabel('Age')\n",
    "plt.ylabel('Frequency')"
   ]
  },
  {
   "cell_type": "markdown",
   "metadata": {
    "_uuid": "693fe767b9665bb77d6c3121155d61f12580f1a2",
    "colab_type": "text",
    "id": "StO5X_YpvjWT"
   },
   "source": [
    "So most of the participants were in their mid twenties to early thirties."
   ]
  },
  {
   "cell_type": "code",
   "execution_count": null,
   "metadata": {
    "_uuid": "3fb778a49c28b19980fa1de0c4cc0ff049eb3ca4",
    "colab": {
     "autoexec": {
      "startup": false,
      "wait_interval": 0
     }
    },
    "colab_type": "code",
    "id": "5sBzDLMRvjWV",
    "outputId": "7feaf325-8331-4177-cc78-f93cd9005dc8"
   },
   "outputs": [],
   "source": [
    "# out of curiosity, I want to see how many speed daters found a match!\n",
    "pd.crosstab(index=dating['match'],columns=\"count\")"
   ]
  },
  {
   "cell_type": "markdown",
   "metadata": {
    "_uuid": "9b5309848424533684047d33448cdf96cef89992",
    "colab_type": "text",
    "id": "ir7DaawMvjWe"
   },
   "source": [
    "It looks like only about **20% of people found themselves a second date** after the speed dating session!"
   ]
  },
  {
   "cell_type": "code",
   "execution_count": null,
   "metadata": {
    "_uuid": "34c37dc0916077abda3833a867899f361606638f",
    "colab": {
     "autoexec": {
      "startup": false,
      "wait_interval": 0
     }
    },
    "colab_type": "code",
    "id": "sTpklZzLvjWh"
   },
   "outputs": [],
   "source": [
    "# narrowing dataset\n",
    "dating_1 = dating.iloc[:, 11:28]\n",
    "dating_2 = dating.iloc[:, 30:35]\n",
    "dating_3 = dating.iloc[:, 39:43]\n",
    "dating_4 = dating.iloc[:, 45:67]\n",
    "dating_5 = dating.iloc[:, 69:74]\n",
    "dating_6 = dating.iloc[:, 87:91]\n",
    "dating_7 = dating.iloc[:, 97:102]\n",
    "dating_8 = dating.iloc[:, 104:107]\n",
    "\n",
    "date = pd.concat([dating.iloc[:, 0],dating.iloc[:, 2],dating_1,dating_2,dating_3,dating_4,dating_5,\n",
    "                  dating_6,dating_7,dating_8], axis=1)"
   ]
  },
  {
   "cell_type": "code",
   "execution_count": null,
   "metadata": {
    "_uuid": "0163ac9846ca206938893eb04b9c8389f7095981",
    "colab": {
     "autoexec": {
      "startup": false,
      "wait_interval": 0
     }
    },
    "colab_type": "code",
    "id": "IyXNLfkYvjWo",
    "outputId": "1e1d9925-a6b4-4ac3-c541-6828c105edde"
   },
   "outputs": [],
   "source": [
    "# counting null values\n",
    "date.isnull().sum()"
   ]
  },
  {
   "cell_type": "code",
   "execution_count": null,
   "metadata": {
    "_uuid": "fd34287aed3c773cb538b9c2e7853151485cd075",
    "colab": {
     "autoexec": {
      "startup": false,
      "wait_interval": 0
     }
    },
    "colab_type": "code",
    "id": "MK6ViXrjvjWy"
   },
   "outputs": [],
   "source": [
    "# removing null rows now that the nulls are in the hundreds and not the thousands\n",
    "date2 = date.dropna()"
   ]
  },
  {
   "cell_type": "code",
   "execution_count": null,
   "metadata": {
    "_uuid": "7c0c73e8d37dc015c43c641e036463335d3e48ec",
    "colab": {
     "autoexec": {
      "startup": false,
      "wait_interval": 0
     }
    },
    "colab_type": "code",
    "id": "YaV5Wzm9vjW3",
    "outputId": "351abc1f-2522-4719-c66b-817e31391dc0"
   },
   "outputs": [],
   "source": [
    "# checking datatypes\n",
    "date2.dtypes"
   ]
  },
  {
   "cell_type": "code",
   "execution_count": null,
   "metadata": {
    "_uuid": "307fadb01e96ed4586d9a11b2f2b6218af226e05",
    "colab": {
     "autoexec": {
      "startup": false,
      "wait_interval": 0
     }
    },
    "colab_type": "code",
    "id": "kQXD9OEPvjW_"
   },
   "outputs": [],
   "source": [
    "# creating an object-free dataframe for later use\n",
    "date3 = date2.drop(['field', 'from', 'career'], axis=1)"
   ]
  },
  {
   "cell_type": "code",
   "execution_count": null,
   "metadata": {
    "_uuid": "af0bcc1ce70f5eb3477100cc2dc79544101e4cc9",
    "colab": {
     "autoexec": {
      "startup": false,
      "wait_interval": 0
     }
    },
    "colab_type": "code",
    "id": "-nRIZmTNvjXE",
    "outputId": "15885811-619e-414a-c171-bc4559cd3940"
   },
   "outputs": [],
   "source": [
    "# heatmap\n",
    "plt.subplots(figsize=(20,15))\n",
    "ax = plt.axes()\n",
    "ax.set_title(\"Correlation Heatmap\")\n",
    "corr = date3.corr()\n",
    "sns.heatmap(corr, \n",
    "            xticklabels=corr.columns.values,\n",
    "            yticklabels=corr.columns.values)"
   ]
  },
  {
   "cell_type": "markdown",
   "metadata": {
    "_uuid": "b97cbbfd5d48698fcfbcffcddf2f4335d8d91552",
    "colab_type": "text",
    "id": "b0_oYJVevjXK"
   },
   "source": [
    "In looking at the <a id=\"hm\">heatmap</a> above, there are some interesting observations.\n",
    "\n",
    "For example, men (gender = 1) seem to have a preference for attractive partners (attr1_1) while women (gender = 0) seem to have a preference for ambitious partners (amb1_1)!\n",
    "\n",
    "In other news, women like shopping and yoga and men like gaming, so at least we know this heatmap is working. Let's look into the <a id=\"hm\">interests</a> some more!"
   ]
  },
  {
   "cell_type": "code",
   "execution_count": null,
   "metadata": {
    "_uuid": "32e9f53b27b03725404fa1cd78cb0a8f61ebff06",
    "colab": {
     "autoexec": {
      "startup": false,
      "wait_interval": 0
     }
    },
    "colab_type": "code",
    "id": "1KvvCrY7vjXN",
    "outputId": "2152a714-622d-43b3-cdc5-8a826ad85ee9"
   },
   "outputs": [],
   "source": [
    "# just for fun, looking at interest overlap\n",
    "sns.set(style=\"ticks\", color_codes=True)\n",
    "date_int = pd.concat([date3.iloc[:, 1],date3.iloc[:, 30:32]],axis = 1)\n",
    "g = sns.pairplot(date_int, hue=\"gender\")"
   ]
  },
  {
   "cell_type": "code",
   "execution_count": null,
   "metadata": {
    "_uuid": "c3039fa10ea51a060ae6565216a7d352aae039f3",
    "colab": {
     "autoexec": {
      "startup": false,
      "wait_interval": 0
     }
    },
    "colab_type": "code",
    "id": "bTuHHoqFvjXR",
    "outputId": "797712ba-38ae-4ba9-baf4-2f6f94d45d84"
   },
   "outputs": [],
   "source": [
    "# just for fun, looking at interest overlap\n",
    "sns.set(style=\"ticks\", color_codes=True)\n",
    "date_int = pd.concat([date3.iloc[:, 1],date3.iloc[:, 33:36]],axis = 1)\n",
    "g = sns.pairplot(date_int, hue=\"gender\")"
   ]
  },
  {
   "cell_type": "code",
   "execution_count": null,
   "metadata": {
    "_uuid": "807611f461a6af21fca077cc3c52bce4389bd074",
    "colab": {
     "autoexec": {
      "startup": false,
      "wait_interval": 0
     }
    },
    "colab_type": "code",
    "id": "2FniGB9IvjXb",
    "outputId": "e3cb1704-5f47-4387-c62a-5f673246aced"
   },
   "outputs": [],
   "source": [
    "# just for fun, looking at interest overlap\n",
    "sns.set(style=\"ticks\", color_codes=True)\n",
    "date_int2 = pd.concat([date3.iloc[:, 1],date3.iloc[:, 41:44]],axis = 1)\n",
    "g = sns.pairplot(date_int2, hue=\"gender\")"
   ]
  },
  {
   "cell_type": "code",
   "execution_count": null,
   "metadata": {
    "_uuid": "fbd3c309e181f69e5a4f84b138a7a64d611d408b",
    "colab": {
     "autoexec": {
      "startup": false,
      "wait_interval": 0
     }
    },
    "colab_type": "code",
    "id": "OkzIFe46vjXw",
    "outputId": "9dd4d330-2e62-44f2-aeea-fa8f3e07ca68"
   },
   "outputs": [],
   "source": [
    "# just for fun, looking at interest overlap\n",
    "sns.set(style=\"ticks\", color_codes=True)\n",
    "date_int3 = pd.concat([date3.iloc[:, 1],date3.iloc[:, 45:47]],axis = 1)\n",
    "g = sns.pairplot(date_int3, hue=\"gender\")"
   ]
  },
  {
   "cell_type": "markdown",
   "metadata": {
    "_uuid": "0867abf53e0a033957b905587a24fe65e5a4c8e6",
    "colab_type": "text",
    "id": "kMzzV5VxvjX2"
   },
   "source": [
    "Just for fun, I wanted to see how interests differed by gender. The histograms above show that **if you want to suggest a date that both genders are likely to enjoy, choose movies or dining!**\n",
    "\n",
    "However, referring back to the heatmap none of the interests really correlated with match, so that gives me the go-ahead to remove interests from my match prediction model!\n",
    "\n",
    "It also looks like match (the variable we are interested in) is mostly correlated to the decisions of the partners, and the partner's attributes (how well they rated the partner's attractiveness, sincerity, intelligence, fun, ambition, and how much they liked them).\n",
    "\n",
    "Interestingly, match was not correlated to age or race, or even how similar the participant and partner's interests are (int_corr)! Love does not discriminate according to the data!"
   ]
  },
  {
   "cell_type": "code",
   "execution_count": null,
   "metadata": {
    "_uuid": "d49b151ffb6f64cb8a3e628619aa41f11ade7abe",
    "colab": {
     "autoexec": {
      "startup": false,
      "wait_interval": 0
     }
    },
    "colab_type": "code",
    "id": "_UqvCcuZvjX5"
   },
   "outputs": [],
   "source": [
    "# removing interests\n",
    "date4 = date3.drop(['sports', 'tvsports', 'exercise', 'dining', 'museums', 'art', 'hiking', \n",
    "                    'gaming', 'clubbing', 'reading', 'tv', 'theater', 'movies', 'concerts', 'music', \n",
    "                   'shopping', 'yoga'], axis=1)"
   ]
  },
  {
   "cell_type": "markdown",
   "metadata": {
    "_uuid": "bf1a6133e354bd8cf813afc3f7171ba8437a8e8f",
    "colab_type": "text",
    "id": "rK-UGWt3vjYG"
   },
   "source": [
    "Going along investigating further <a id=\"gd\">gender differences</a>, I wonder... how many of each gender are there and does that affect the other person's decision? That is, do women receive more positive final decisions from the other person (dec_o) than men do?"
   ]
  },
  {
   "cell_type": "code",
   "execution_count": null,
   "metadata": {
    "_uuid": "de3f010ae944fa8f0fdd3bebc269dad364dbcd9a",
    "colab": {
     "autoexec": {
      "startup": false,
      "wait_interval": 0
     }
    },
    "colab_type": "code",
    "id": "hDXiFaAbvjYK",
    "outputId": "0840003f-6b18-473d-d1d8-265037738e1c"
   },
   "outputs": [],
   "source": [
    "# looking at dec_o by gender\n",
    "sns.set(style=\"ticks\", color_codes=True)\n",
    "g = sns.FacetGrid(date4, col=\"gender\")\n",
    "g = g.map(plt.hist, \"dec_o\")\n",
    "plt.ticklabel_format(useOffset=False, style='plain')"
   ]
  },
  {
   "cell_type": "code",
   "execution_count": null,
   "metadata": {
    "_uuid": "3884cf6ce00cd8f6d894fed4fbb1d43fb179cbb2",
    "colab": {
     "autoexec": {
      "startup": false,
      "wait_interval": 0
     }
    },
    "colab_type": "code",
    "id": "ShejGt-LvjYT",
    "outputId": "60f6cfda-b610-472d-83f9-6fd4231ef475"
   },
   "outputs": [],
   "source": [
    "# chi-square test\n",
    "gender_crosstab = pd.crosstab(index=date4.gender, columns=date4.dec_o)\n",
    "gender_table = sm.stats.Table(gender_crosstab)\n",
    "gender_rslt = gender_table.test_nominal_association()\n",
    "gender_rslt.pvalue"
   ]
  },
  {
   "cell_type": "markdown",
   "metadata": {
    "_uuid": "2d352d894ba964914db97b69edf4e2e9094830fc",
    "colab_type": "text",
    "id": "S_pbNqKNvjYZ"
   },
   "source": [
    "It looks like women received about 1750 'no' and about 1600 'yes' for the decision question \"Would you like to see him or her again?\". Men received about 2050 'no' and about 1300 'yes'. In other words, **men are more likely to be rejected by women than women are to be rejected by men** (wahwah). This is a statistically significant difference as confirmed by the above chi-squared test p-value. Poor guys!\n",
    "\n",
    "Now, I wonder, how many interactions were <a id=\"url\">unrequited love</a>? That is, getting the count of rows where dec_o = 1 AND dec = 0 OR a dec = 1 AND dec_o = 0?"
   ]
  },
  {
   "cell_type": "code",
   "execution_count": null,
   "metadata": {
    "_uuid": "01b3a517211862c9eddd3c44afaa3bc54929731d",
    "colab": {
     "autoexec": {
      "startup": false,
      "wait_interval": 0
     }
    },
    "colab_type": "code",
    "id": "bnRM0J10vjYa",
    "outputId": "d37f1e30-4c1b-467e-f96b-272931973557"
   },
   "outputs": [],
   "source": [
    "# unrequited love count\n",
    "no_love_count = len(date4[(date4['dec_o']==0) & (date4['dec']==1)]) \n",
    "+ len(date4[(date4['dec_o']==1) & (date4['dec']==0)])\n",
    "perc_broken_heart = no_love_count / len(date4.index)\n",
    "perc_broken_heart*100"
   ]
  },
  {
   "cell_type": "markdown",
   "metadata": {
    "_uuid": "e4c153b9ab6be9c3a60924c9031687aa50d61be6",
    "colab_type": "text",
    "id": "97xaCw0YvjYc"
   },
   "source": [
    "So it seems **26% of participants unfortunately had their heart broken**. More than the percentage of people who got a second date! \n",
    "\n",
    "On an unrelated note, I wonder if the incidence of unrequited love differs by the attractiveness of the partner."
   ]
  },
  {
   "cell_type": "code",
   "execution_count": null,
   "metadata": {
    "_uuid": "baa2ab24a2d1358300c8d6c11b8a376cc4094c26",
    "colab": {
     "autoexec": {
      "startup": false,
      "wait_interval": 0
     }
    },
    "colab_type": "code",
    "id": "JK4VvqD0vjYd"
   },
   "outputs": [],
   "source": [
    "# encoding unrequited love as a new column\n",
    "date4['url']=np.where(((date4['dec_o']==0) & (date4['dec']==1))|((date4['dec']==0) & (date4['dec_o']==1)),1,0)"
   ]
  },
  {
   "cell_type": "code",
   "execution_count": null,
   "metadata": {
    "_uuid": "16ea8d3e9f87ee5ad17c71ad8357017b94b112df",
    "colab": {
     "autoexec": {
      "startup": false,
      "wait_interval": 0
     }
    },
    "colab_type": "code",
    "id": "AxP--4K5vjYi",
    "outputId": "26c48920-0c13-4dab-eeda-ebdc7219090a"
   },
   "outputs": [],
   "source": [
    "# looking at url by attractiveness\n",
    "plt.figure(figsize=(7,9))\n",
    "sns.boxplot(x='url', y='attr', data=date4, palette='cool')\n",
    "plt.title('Broken Hearts by Attractiveness of Partner', fontsize=20)\n",
    "plt.xlabel('Broken Heart', fontsize=16)"
   ]
  },
  {
   "cell_type": "code",
   "execution_count": null,
   "metadata": {
    "_uuid": "afc63824d18a4fa3659ddb7a607c2735dd0a79f7",
    "colab": {
     "autoexec": {
      "startup": false,
      "wait_interval": 0
     }
    },
    "colab_type": "code",
    "id": "aGjlaYxdvjYp",
    "outputId": "06de18e6-fabb-4a48-fb61-9140cfe9e670"
   },
   "outputs": [],
   "source": [
    "# chi-square test\n",
    "bh_crosstab = pd.crosstab(index=date4.attr, columns=date4.url)\n",
    "bh_table = sm.stats.Table(bh_crosstab)\n",
    "bh_rslt = bh_table.test_nominal_association()\n",
    "bh_rslt.pvalue"
   ]
  },
  {
   "cell_type": "markdown",
   "metadata": {
    "_uuid": "1b442de7627aefa018d819bfc9e250e3e2359d46",
    "colab_type": "text",
    "id": "x2CKCzE9vjYu"
   },
   "source": [
    "Looks like the difference in attractiveness was not statistically significant. So the good news is, the likelihood of getting rejected is not dependent on your attractiveness!"
   ]
  },
  {
   "cell_type": "code",
   "execution_count": null,
   "metadata": {
    "_uuid": "7bbadc90fbc8b0a62f18c352b1b436cffeb47e59",
    "colab": {
     "autoexec": {
      "startup": false,
      "wait_interval": 0
     }
    },
    "colab_type": "code",
    "id": "zR7H1rYXvjYv",
    "outputId": "948c9c59-4a3b-488a-bb77-84b7d2710c2a"
   },
   "outputs": [],
   "source": [
    "date5 = pd.concat([date4['attr3_1'],date4['sinc3_1'],date4['intel3_1'],date4['fun3_1'],date4['attr_o'],\n",
    "                   date4['sinc_o'],date4['intel_o'],date4['fun_o'],date4['like'],date4['like_o'], \n",
    "                   date4['int_corr'],date4['url']],axis=1)\n",
    "plt.subplots(figsize=(15,10))\n",
    "ax = plt.axes()\n",
    "ax.set_title(\"Correlation Heatmap\")\n",
    "corr = date5.corr()\n",
    "sns.heatmap(corr, \n",
    "            xticklabels=corr.columns.values,\n",
    "            yticklabels=corr.columns.values)"
   ]
  },
  {
   "cell_type": "markdown",
   "metadata": {
    "_uuid": "beda5df17fef31b8b3237a6408611ed4da34df1e",
    "colab_type": "text",
    "id": "mztcXnEdvjYy"
   },
   "source": [
    "It looks like regardless of your attractiveness, or any other trait for that matter, you are just as likely to experience heartbreak!\n",
    "\n",
    "It also looks like typically, your own opinion of how attractive you are (attr3_1) is only weakly correlated with how attractive your date finds you (attr_o)! And in fact, there is nearly no correlation between how smart or sincere you think you are versus how smart and sincere your date thinks of you! Perhaps these are tough qualities to get across in a 4 minute date!\n",
    "\n",
    "So that brings up the question, between attractiveness, sincerity, intelligence, fun, ambition, and liking, what was the most influential in the final decision (dec)? I'll run a <a id=\"ols\">linear regression model</a>."
   ]
  },
  {
   "cell_type": "code",
   "execution_count": null,
   "metadata": {
    "_uuid": "7fcbf2b23d1a65c7b8417cf1da93ac64baaa8be5",
    "colab": {
     "autoexec": {
      "startup": false,
      "wait_interval": 0
     }
    },
    "colab_type": "code",
    "id": "O-sKMs2uvjY1",
    "outputId": "7b4205ec-3021-4c8d-847e-1afb6d488dac"
   },
   "outputs": [],
   "source": [
    "# OLS model with coefficients\n",
    "X_ols = date4[['attr','sinc','intel','fun','like','int_corr']]\n",
    "y_ols = date4.dec\n",
    "traits = sm.OLS(y_ols, X_ols)\n",
    "results_traits = traits.fit()\n",
    "results_traits.summary()"
   ]
  },
  {
   "cell_type": "markdown",
   "metadata": {
    "_uuid": "b41713b3eabe80887f5006d075f07004ee59c833",
    "colab_type": "text",
    "id": "jICk3lSIvjY6"
   },
   "source": [
    "It turns out that being intelligent or sincere or having similar interests actually slightly hurts your chances at securing that second date! Don't panic though, this is just from 4 minutes of meeting each other! We might take this as advice to focus on breaking the ice and being more fun and likeable in the first date!\n",
    "\n",
    "Now let's run an OLS but with both respondents' ratings instead of just one, and this time on match instead of decision (dec)."
   ]
  },
  {
   "cell_type": "code",
   "execution_count": null,
   "metadata": {
    "_uuid": "09633614e60293c329406fce699157e952c28a7e",
    "colab": {
     "autoexec": {
      "startup": false,
      "wait_interval": 0
     }
    },
    "colab_type": "code",
    "id": "aEWcSWF4vjY7",
    "outputId": "3a63de69-db8f-4a3b-f954-8ef04073106f"
   },
   "outputs": [],
   "source": [
    "# OLS model with coefficients\n",
    "X_ols = date4[['dec','dec_o','attr','attr_o','fun','fun_o','like','like_o','int_corr']]\n",
    "y_ols = date4.match\n",
    "traits = sm.OLS(y_ols, X_ols)\n",
    "results_traits = traits.fit()\n",
    "results_traits.summary()"
   ]
  },
  {
   "cell_type": "markdown",
   "metadata": {
    "_uuid": "c1e1e4afdc15efe3c1e48357289f5d8c94dc3367",
    "colab_type": "text",
    "id": "jRkxMwh9vjY-"
   },
   "source": [
    "**From the coefficients, it looks like all that really matters is the decision of both participants, and perhaps whether or not they liked one another.**"
   ]
  },
  {
   "cell_type": "markdown",
   "metadata": {
    "_uuid": "a4dd098965b3c3f496952b05a864039e792dc9ba",
    "colab_type": "text",
    "id": "gIDzeWlyvjY_"
   },
   "source": [
    "## <a id=\"mdl\"> Modeling - Classification </a>"
   ]
  },
  {
   "cell_type": "code",
   "execution_count": null,
   "metadata": {
    "_uuid": "d713a982997379bee3ec2eb3903a1e2e822491b8",
    "colab": {
     "autoexec": {
      "startup": false,
      "wait_interval": 0
     }
    },
    "colab_type": "code",
    "id": "ljIT1NzvvjY_"
   },
   "outputs": [],
   "source": [
    "# preparing the data\n",
    "X=date4[['like','dec']]\n",
    "y=date4['match']\n",
    "X_train, X_test, y_train, y_test = train_test_split(X, y, test_size=0.2, random_state=0, stratify=y)"
   ]
  },
  {
   "cell_type": "code",
   "execution_count": null,
   "metadata": {
    "_uuid": "9920607d57a63b1c165e30b88f908e8ffea4bd28",
    "colab": {
     "autoexec": {
      "startup": false,
      "wait_interval": 0
     }
    },
    "colab_type": "code",
    "id": "N1mWbDw6vjZC",
    "outputId": "edc3c5d3-d659-4a50-bb54-e0a7665b5758"
   },
   "outputs": [],
   "source": [
    "# logistic regression classification model\n",
    "model = LogisticRegression(C=1, random_state=0)\n",
    "lrc = model.fit(X_train, y_train)\n",
    "predict_train_lrc = lrc.predict(X_train)\n",
    "predict_test_lrc = lrc.predict(X_test)\n",
    "print('Training Accuracy:', metrics.accuracy_score(y_train, predict_train_lrc))\n",
    "print('Validation Accuracy:', metrics.accuracy_score(y_test, predict_test_lrc))"
   ]
  },
  {
   "cell_type": "markdown",
   "metadata": {
    "_uuid": "a5bc5de8c454656c5feb2468992e1f0ae1377908",
    "colab_type": "text",
    "id": "uLkH5a9XvjZG"
   },
   "source": [
    "Without knowing what the partner's decision is (dec_o), it turns out that given how much the respondent likes the partner and what the respondent's decision is, we have about an 82.5% accuracy in predicting a match on both the training and the validation using <a id=\"rf\">logistic regression</a>. This makes sense given that we know only 26% of people were heartbroken -- if you like someone, odds are they will like you back!\n",
    "\n",
    "Let's try some other models to see if we can get closer to predicting a match."
   ]
  },
  {
   "cell_type": "code",
   "execution_count": null,
   "metadata": {
    "_uuid": "004fe2bc0fc9185799447a0a02b51010bcd541c1",
    "colab": {
     "autoexec": {
      "startup": false,
      "wait_interval": 0
     }
    },
    "colab_type": "code",
    "id": "l7lK8jRmvjZH",
    "outputId": "fe830bf1-a729-49e7-f1fd-59a3c9cff3f1"
   },
   "outputs": [],
   "source": [
    "# random forest model\n",
    "model = RandomForestClassifier()\n",
    "rf_model = model.fit(X_train, y_train)\n",
    "predict_train_rf = rf_model.predict(X_train)\n",
    "predict_test_rf = rf_model.predict(X_test)\n",
    "print('Training Accuracy:', metrics.accuracy_score(y_train, predict_train_rf))\n",
    "print('Validation Accuracy:', metrics.accuracy_score(y_test, predict_test_rf))"
   ]
  },
  {
   "cell_type": "markdown",
   "metadata": {
    "_uuid": "96158e33b0b49f05401781e251513ff2c8433128",
    "colab_type": "text",
    "id": "ztui5T2XvjZL"
   },
   "source": [
    "<a id=\"rf\">Random forest</a> gave us a slightly more accurate model at 82.9% accuracy in train and 82.8% in test."
   ]
  },
  {
   "cell_type": "code",
   "execution_count": null,
   "metadata": {
    "_uuid": "c68c89f388da5cb22e6a895d20ddf764cef179e1",
    "colab": {
     "autoexec": {
      "startup": false,
      "wait_interval": 0
     }
    },
    "colab_type": "code",
    "id": "dSdbenPWvjZR",
    "outputId": "fab8aea6-20d6-4bbf-ce4c-3c5a818add85"
   },
   "outputs": [],
   "source": [
    "# xgboost model\n",
    "model = GradientBoostingClassifier()\n",
    "xgb_model = model.fit(X_train, y_train)\n",
    "predict_train_xgb = xgb_model.predict(X_train)\n",
    "predict_test_xgb = xgb_model.predict(X_test)\n",
    "print('Training Accuracy:', metrics.accuracy_score(y_train, predict_train_xgb))\n",
    "print('Validation Accuracy:', metrics.accuracy_score(y_test, predict_test_xgb))"
   ]
  },
  {
   "cell_type": "markdown",
   "metadata": {
    "_uuid": "542471851e481389d4cc8acb83fea1d80c548e8a",
    "colab_type": "text",
    "id": "Vwgy54uZvjZT"
   },
   "source": [
    "<a id=\"xgb\">XGBoost</a> was ever so slightly less accurate than Random Forest in the validation set. Looks like Random Forest is my champion model."
   ]
  },
  {
   "cell_type": "markdown",
   "metadata": {
    "_uuid": "a31b0e31eacd3d00bb71b0fb567a5da42cdaf111",
    "colab_type": "text",
    "id": "PiqwG3N8vjZT"
   },
   "source": [
    "## <a id=\"ccn\"> Conclusion </a>\n",
    "\n",
    "Although this was slightly disappointing, it looks like there still is no real answers to the secret of love. It's not interests or hobbies, it's not attractiveness or intelligence or other traits. Really it's just how much someone likes you. Who would have thought?\n",
    "\n",
    "On the other hand, we did learn a thing or two. To summarize:\n",
    " * Take your date out to the cliche dinner and a movie because both genders are likely to enjoy it\n",
    " * Dating is tougher for men (perhaps women can be more selective?)\n",
    " * More participants experienced unrequited love than those that found love -- so don't feel too bad\n",
    " * People get their heartbroken regardless of their personal traits like attractiveness, so if you strike out, it's not you that is the problem\n",
    " * Your impression of yourself is often wrong\n",
    " * There is no one trait that makes you likeable\n",
    " * Being likeable is important for securing that second date!\n"
   ]
  }
 ],
 "metadata": {
  "colab": {
   "default_view": {},
   "name": "speed-dating-annaeshen.ipynb",
   "provenance": [],
   "version": "0.3.2",
   "views": {}
  },
  "kernelspec": {
   "display_name": "Python 3",
   "language": "python",
   "name": "python3"
  },
  "language_info": {
   "codemirror_mode": {
    "name": "ipython",
    "version": 3
   },
   "file_extension": ".py",
   "mimetype": "text/x-python",
   "name": "python",
   "nbconvert_exporter": "python",
   "pygments_lexer": "ipython3",
   "version": "3.6.4"
  }
 },
 "nbformat": 4,
 "nbformat_minor": 1
}
