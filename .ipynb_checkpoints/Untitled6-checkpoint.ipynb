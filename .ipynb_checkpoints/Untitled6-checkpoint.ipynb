{
 "cells": [
  {
   "cell_type": "code",
   "execution_count": 57,
   "metadata": {},
   "outputs": [],
   "source": [
    "class Imputer:\n",
    "    def __init__(self,\n",
    "                values,\n",
    "                strategy):\n",
    "    \n",
    "        self.values = values\n",
    "        self.strategy = strategy\n",
    "\n",
    "        def avg(self):\n",
    "            sum = 0\n",
    "            missing_values = []\n",
    "\n",
    "            for i in range(len(self.values)):\n",
    "                if self.values[i] is None:\n",
    "                    missing_values += [i]\n",
    "                else:\n",
    "                    sum += self.values[i]\n",
    "\n",
    "            for i in missing_values:\n",
    "                self.values[i] = sum/(len(self.values) - len(missing_values))\n",
    "\n",
    "            return self.values\n",
    "        \n",
    "        def mdn(self):\n",
    "            sum = 0\n",
    "            missing_values = []\n",
    "            l = len(values)\n",
    "            m = l % 2\n",
    "            \n",
    "            for i in range(len(self.values)):\n",
    "                if self.values[i] is None:\n",
    "                    missing_values += [i]\n",
    "                else:\n",
    "                    sum += self.values[i]\n",
    "                    \n",
    "            for i in missing_values:\n",
    "                if m == 0:\n",
    "                    self.values[i] = l[-1] / l[0]\n",
    "                else:\n",
    "                    self.values[i] = values[l//2]\n",
    "\n",
    "            return self.values\n",
    "        \n",
    "        \n",
    "        if self.strategy == \"avg\":\n",
    "            avg(self)\n",
    "            \n",
    "        if self.strategy == \"mdn\":\n",
    "            mdn(self)\n",
    "\n",
    "        "
   ]
  },
  {
   "cell_type": "code",
   "execution_count": 64,
   "metadata": {},
   "outputs": [],
   "source": [
    "li = [323, None, 2398, None, 978323]"
   ]
  },
  {
   "cell_type": "code",
   "execution_count": 69,
   "metadata": {},
   "outputs": [],
   "source": [
    "imputer = Imputer(li, \"avg\")"
   ]
  },
  {
   "cell_type": "code",
   "execution_count": 70,
   "metadata": {},
   "outputs": [
    {
     "ename": "TypeError",
     "evalue": "'Imputer' object is not callable",
     "output_type": "error",
     "traceback": [
      "\u001b[0;31m---------------------------------------------------------------------------\u001b[0m",
      "\u001b[0;31mTypeError\u001b[0m                                 Traceback (most recent call last)",
      "\u001b[0;32m<ipython-input-70-bda8aa029ec1>\u001b[0m in \u001b[0;36m<module>\u001b[0;34m\u001b[0m\n\u001b[0;32m----> 1\u001b[0;31m \u001b[0mimputer\u001b[0m\u001b[0;34m(\u001b[0m\u001b[0;34m)\u001b[0m\u001b[0;34m\u001b[0m\u001b[0;34m\u001b[0m\u001b[0m\n\u001b[0m",
      "\u001b[0;31mTypeError\u001b[0m: 'Imputer' object is not callable"
     ]
    }
   ],
   "source": [
    "imputer()"
   ]
  },
  {
   "cell_type": "code",
   "execution_count": 49,
   "metadata": {},
   "outputs": [
    {
     "data": {
      "text/plain": [
       "5"
      ]
     },
     "execution_count": 49,
     "metadata": {},
     "output_type": "execute_result"
    }
   ],
   "source": [
    "toto = 11 // 2\n",
    "toto"
   ]
  }
 ],
 "metadata": {
  "kernelspec": {
   "display_name": "Python 3",
   "language": "python",
   "name": "python3"
  },
  "language_info": {
   "codemirror_mode": {
    "name": "ipython",
    "version": 3
   },
   "file_extension": ".py",
   "mimetype": "text/x-python",
   "name": "python",
   "nbconvert_exporter": "python",
   "pygments_lexer": "ipython3",
   "version": "3.7.1"
  }
 },
 "nbformat": 4,
 "nbformat_minor": 2
}
