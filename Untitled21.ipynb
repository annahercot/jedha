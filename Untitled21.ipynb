{
 "cells": [
  {
   "cell_type": "code",
   "execution_count": 1,
   "metadata": {},
   "outputs": [
    {
     "name": "stdout",
     "output_type": "stream",
     "text": [
      "Collecting azure-storage\n",
      "\u001b[?25l  Downloading https://files.pythonhosted.org/packages/76/26/482c033f8f3a48d16cf75aad91c3e1256856719f4117fabb4696d33aa5da/azure_storage-0.36.0-py2.py3-none-any.whl (190kB)\n",
      "\u001b[K    100% |████████████████████████████████| 194kB 7.1MB/s ta 0:00:01\n",
      "\u001b[?25hRequirement already satisfied: requests in /anaconda3/lib/python3.6/site-packages (from azure-storage) (2.21.0)\n",
      "Collecting azure-nspkg>=2.0.0 (from azure-storage)\n",
      "  Downloading https://files.pythonhosted.org/packages/c4/0c/c562be95a9a2ed52454f598571cf300b1114d0db2aa27f5b8ed3bb9cd0c0/azure_nspkg-3.0.2-py3-none-any.whl\n",
      "Requirement already satisfied: python-dateutil in /anaconda3/lib/python3.6/site-packages (from azure-storage) (2.8.0)\n",
      "Requirement already satisfied: cryptography in /anaconda3/lib/python3.6/site-packages (from azure-storage) (2.6.1)\n",
      "Collecting azure-common>=1.1.5 (from azure-storage)\n",
      "  Downloading https://files.pythonhosted.org/packages/c3/f8/46248b201fd38b7e93c6da644e2fc3bc5a39118f253562751fd295a8cc77/azure_common-1.1.18-py2.py3-none-any.whl\n",
      "Requirement already satisfied: certifi>=2017.4.17 in /anaconda3/lib/python3.6/site-packages (from requests->azure-storage) (2019.3.9)\n",
      "Requirement already satisfied: idna<2.9,>=2.5 in /anaconda3/lib/python3.6/site-packages (from requests->azure-storage) (2.8)\n",
      "Requirement already satisfied: chardet<3.1.0,>=3.0.2 in /anaconda3/lib/python3.6/site-packages (from requests->azure-storage) (3.0.4)\n",
      "Requirement already satisfied: urllib3<1.25,>=1.21.1 in /anaconda3/lib/python3.6/site-packages (from requests->azure-storage) (1.24.1)\n",
      "Requirement already satisfied: six>=1.5 in /anaconda3/lib/python3.6/site-packages (from python-dateutil->azure-storage) (1.12.0)\n",
      "Requirement already satisfied: asn1crypto>=0.21.0 in /anaconda3/lib/python3.6/site-packages (from cryptography->azure-storage) (0.24.0)\n",
      "Requirement already satisfied: cffi!=1.11.3,>=1.8 in /anaconda3/lib/python3.6/site-packages (from cryptography->azure-storage) (1.12.2)\n",
      "Requirement already satisfied: pycparser in /anaconda3/lib/python3.6/site-packages (from cffi!=1.11.3,>=1.8->cryptography->azure-storage) (2.19)\n",
      "Installing collected packages: azure-nspkg, azure-common, azure-storage\n",
      "Successfully installed azure-common-1.1.18 azure-nspkg-3.0.2 azure-storage-0.36.0\n"
     ]
    }
   ],
   "source": [
    "!pip install azure-storage"
   ]
  },
  {
   "cell_type": "code",
   "execution_count": null,
   "metadata": {},
   "outputs": [],
   "source": []
  }
 ],
 "metadata": {
  "kernelspec": {
   "display_name": "Python 3",
   "language": "python",
   "name": "python3"
  },
  "language_info": {
   "codemirror_mode": {
    "name": "ipython",
    "version": 3
   },
   "file_extension": ".py",
   "mimetype": "text/x-python",
   "name": "python",
   "nbconvert_exporter": "python",
   "pygments_lexer": "ipython3",
   "version": "3.6.8"
  }
 },
 "nbformat": 4,
 "nbformat_minor": 2
}
