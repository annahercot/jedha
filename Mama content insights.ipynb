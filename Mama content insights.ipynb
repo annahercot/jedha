{
 "cells": [
  {
   "cell_type": "code",
   "execution_count": 3,
   "metadata": {},
   "outputs": [],
   "source": [
    "import seaborn as sns\n",
    "import pandas as pd\n",
    "import numpy as np\n",
    "import matplotlib as plt"
   ]
  },
  {
   "cell_type": "code",
   "execution_count": 224,
   "metadata": {},
   "outputs": [
    {
     "data": {
      "text/html": [
       "<div>\n",
       "<style scoped>\n",
       "    .dataframe tbody tr th:only-of-type {\n",
       "        vertical-align: middle;\n",
       "    }\n",
       "\n",
       "    .dataframe tbody tr th {\n",
       "        vertical-align: top;\n",
       "    }\n",
       "\n",
       "    .dataframe thead th {\n",
       "        text-align: right;\n",
       "    }\n",
       "</style>\n",
       "<table border=\"1\" class=\"dataframe\">\n",
       "  <thead>\n",
       "    <tr style=\"text-align: right;\">\n",
       "      <th></th>\n",
       "      <th>Name</th>\n",
       "      <th>Availability</th>\n",
       "      <th>Tag list</th>\n",
       "      <th>Parent</th>\n",
       "      <th>Category</th>\n",
       "      <th>Rating [Category]</th>\n",
       "      <th>ParentCategory</th>\n",
       "    </tr>\n",
       "  </thead>\n",
       "  <tbody>\n",
       "    <tr>\n",
       "      <th>count</th>\n",
       "      <td>536</td>\n",
       "      <td>536</td>\n",
       "      <td>536</td>\n",
       "      <td>536</td>\n",
       "      <td>535</td>\n",
       "      <td>535</td>\n",
       "      <td>535</td>\n",
       "    </tr>\n",
       "    <tr>\n",
       "      <th>unique</th>\n",
       "      <td>536</td>\n",
       "      <td>54</td>\n",
       "      <td>1</td>\n",
       "      <td>38</td>\n",
       "      <td>34</td>\n",
       "      <td>4</td>\n",
       "      <td>12</td>\n",
       "    </tr>\n",
       "    <tr>\n",
       "      <th>top</th>\n",
       "      <td>mûre</td>\n",
       "      <td>01, 02, 03, 04, 05, 06, 07, 08, 09, 10, 11, 12</td>\n",
       "      <td>-</td>\n",
       "      <td>-</td>\n",
       "      <td>Légumes</td>\n",
       "      <td>good</td>\n",
       "      <td>Fruits et légumes</td>\n",
       "    </tr>\n",
       "    <tr>\n",
       "      <th>freq</th>\n",
       "      <td>1</td>\n",
       "      <td>413</td>\n",
       "      <td>536</td>\n",
       "      <td>379</td>\n",
       "      <td>81</td>\n",
       "      <td>229</td>\n",
       "      <td>169</td>\n",
       "    </tr>\n",
       "  </tbody>\n",
       "</table>\n",
       "</div>"
      ],
      "text/plain": [
       "        Name                                    Availability Tag list Parent  \\\n",
       "count    536                                             536      536    536   \n",
       "unique   536                                              54        1     38   \n",
       "top     mûre  01, 02, 03, 04, 05, 06, 07, 08, 09, 10, 11, 12       -      -    \n",
       "freq       1                                             413      536    379   \n",
       "\n",
       "        Category Rating [Category]      ParentCategory  \n",
       "count        535               535                 535  \n",
       "unique        34                 4                  12  \n",
       "top     Légumes              good  Fruits et légumes  \n",
       "freq          81               229                 169  "
      ]
     },
     "execution_count": 224,
     "metadata": {},
     "output_type": "execute_result"
    }
   ],
   "source": [
    "recipes = pd.read_csv(\"/Users/vincentsalamand/Downloads/recipe_2019-03-05_14h21m53.csv\")\n",
    "foods = pd.read_csv(\"/Users/vincentsalamand/Downloads/food_2019-03-05_11h03m15.csv\")\n",
    "items = pd.read_csv(\"/Users/vincentsalamand/Downloads/item_2019-03-05_11h04m18.csv\")\n",
    "\n",
    "items = items.rename(columns={ items.columns[2]: \"FoodName\", items.columns[3]: \"IdRecipe\" })\n",
    "\n",
    "dataset = pd.merge(foods, items, left_on = 'Name', right_on = 'FoodName')\n",
    "dataset = pd.merge(recipes, dataset, left_on = 'Id', right_on = 'IdRecipe')\n",
    "dataset = dataset.drop([\"Id_y\", \"Recipe ingredient\", \"FoodName\", \"IdRecipe\"], axis=1)\n",
    "\n",
    "dataset = dataset.rename(columns={ \"Name [Category]\": \"Category\", \"Parent [Category]\": \"ParentCategory\" })\n",
    "foods = foods.rename(columns={ \"Name [Category]\": \"Category\", \"Parent [Category]\": \"ParentCategory\" })\n",
    "dataset = dataset[dataset.Status.str.contains(\"published\")]\n",
    "\n",
    "foods.describe()"
   ]
  },
  {
   "cell_type": "code",
   "execution_count": 171,
   "metadata": {
    "scrolled": true
   },
   "outputs": [
    {
     "data": {
      "text/plain": [
       "<matplotlib.axes._subplots.AxesSubplot at 0x1a1cd6c3c8>"
      ]
     },
     "execution_count": 171,
     "metadata": {},
     "output_type": "execute_result"
    },
    {
     "data": {
      "image/png": "[encoded data removed]",
      "text/plain": [
       "<Figure size 432x288 with 1 Axes>"
      ]
     },
     "metadata": {
      "needs_background": "light"
     },
     "output_type": "display_data"
    }
   ],
   "source": [
    "recipes[\"ingredients_count\"]= recipes.Title.map(dataset.Title.value_counts())\n",
    "\n",
    "sns.countplot(recipes.ingredients_count)"
   ]
  },
  {
   "cell_type": "code",
   "execution_count": 172,
   "metadata": {},
   "outputs": [
    {
     "data": {
      "text/plain": [
       "<matplotlib.axes._subplots.AxesSubplot at 0x1a1c3bd278>"
      ]
     },
     "execution_count": 172,
     "metadata": {},
     "output_type": "execute_result"
    },
    {
     "data": {
      "image/png": "[encoded data removed]",
      "text/plain": [
       "<Figure size 432x288 with 1 Axes>"
      ]
     },
     "metadata": {
      "needs_background": "light"
     },
     "output_type": "display_data"
    }
   ],
   "source": [
    "recipes[\"grocery_list_size\"] = recipes.ingredients_count.apply(lambda x: \"XL\" if x > 15 \n",
    "                                             else \"L\" if x > 10  \n",
    "                                             else \"M\" if x > 5 \n",
    "                                             else \"S\")\n",
    "\n",
    "recipes.groupby(\"grocery_list_size\").Title.count() \n",
    "#sns.catplot(x=\"grocery_list_size\", y=\"ingredients_count\", kind=\"bar\", data=recipes)\n",
    "sns.countplot(recipes.grocery_list_size)"
   ]
  },
  {
   "cell_type": "code",
   "execution_count": 289,
   "metadata": {},
   "outputs": [
    {
     "data": {
      "text/plain": [
       "huile d'olive                  228\n",
       "ail                            183\n",
       "graine de sésame               136\n",
       "tomate                          96\n",
       "moutarde                        92\n",
       "oignon                          91\n",
       "persil                          90\n",
       "vinaigre balsamique             84\n",
       "avocat                          84\n",
       "salade                          67\n",
       "riz                             63\n",
       "carotte                         60\n",
       "oeuf                            58\n",
       "pomme de terre                  57\n",
       "pâtes                           52\n",
       "brocoli                         50\n",
       "crème fraîche                   48\n",
       "basilic                         48\n",
       "citron                          48\n",
       "blanc de poulet                 47\n",
       "mozzarella                      44\n",
       "échalote                        43\n",
       "champignon                      41\n",
       "quinoa                          38\n",
       "parmesan                        36\n",
       "thym                            36\n",
       "petit pois                      34\n",
       "cumin                           34\n",
       "jambon blanc                    32\n",
       "romarin                         31\n",
       "                              ... \n",
       "concentré de tomate              2\n",
       "farine                           2\n",
       "pain de mie                      2\n",
       "reblochon                        1\n",
       "fromage frais                    1\n",
       "haricot plat                     1\n",
       "fenouil                          1\n",
       "saucisse                         1\n",
       "piment                           1\n",
       "lait de coco                     1\n",
       "coriandre                        1\n",
       "vinaigre de vin                  1\n",
       "filet de maquereau moutarde      1\n",
       "blé                              1\n",
       "flageolet                        1\n",
       "haricot sec                      1\n",
       "miel                             1\n",
       "croutons                         1\n",
       "poivron rouge                    1\n",
       "huile de colza                   1\n",
       "gorgonzola                       1\n",
       "muscade                          1\n",
       "pâte de curry                    1\n",
       "aubergine                        1\n",
       "cassis                           1\n",
       "emmental                         1\n",
       "huile de coco                    1\n",
       "câpre                            1\n",
       "tabasco                          1\n",
       "huile de noix                    1\n",
       "Name: Name, Length: 169, dtype: int64"
      ]
     },
     "execution_count": 289,
     "metadata": {},
     "output_type": "execute_result"
    }
   ],
   "source": [
    "top_foods = dataset.Name.value_counts()\n",
    "top_foods"
   ]
  },
  {
   "cell_type": "code",
   "execution_count": 225,
   "metadata": {},
   "outputs": [
    {
     "data": {
      "text/plain": [
       "Fruits et légumes                                      169\n",
       "Viandes et charcuteries, produits de la pêche, oeufs    117\n",
       "Féculents                                               71\n",
       "Matières grasses ajoutées                              68\n",
       "Lait et produits laitiers                                40\n",
       "Herbes ou épices                                         37\n",
       "Légumineuses                                            16\n",
       "Produits sucrés ou sucrés et gras                       6\n",
       " -                                                        4\n",
       "Sel                                                       4\n",
       "Boissons sucrées                                         2\n",
       "Eau                                                       1\n",
       "Name: ParentCategory, dtype: int64"
      ]
     },
     "execution_count": 225,
     "metadata": {},
     "output_type": "execute_result"
    }
   ],
   "source": [
    "foods.ParentCategory.value_counts()"
   ]
  },
  {
   "cell_type": "code",
   "execution_count": 204,
   "metadata": {},
   "outputs": [
    {
     "data": {
      "image/png": "[encoded data removed]",
      "text/plain": [
       "<Figure size 1440x432 with 1 Axes>"
      ]
     },
     "metadata": {
      "needs_background": "light"
     },
     "output_type": "display_data"
    }
   ],
   "source": [
    "import matplotlib.pyplot as plt\n",
    "f, ax = plt.subplots(figsize=(20, 6))\n",
    "sns.countplot(dataset.ParentCategory, ax=ax)\n",
    "plt.show()"
   ]
  },
  {
   "cell_type": "code",
   "execution_count": 300,
   "metadata": {},
   "outputs": [
    {
     "data": {
      "text/plain": [
       "ParentCategory                                        Name                       \n",
       " -                                                    vin rouge                        6\n",
       "                                                      vin blanc                        5\n",
       "Féculents                                            riz                             63\n",
       "                                                      pâtes                           52\n",
       "                                                      quinoa                          38\n",
       "                                                      pâte à pizza                    29\n",
       "                                                      riz basmati                     27\n",
       "                                                      pain                            17\n",
       "                                                      semoule                         10\n",
       "                                                      pain hamburger                   7\n",
       "                                                      spaghetti                        7\n",
       "                                                      boulgour                         6\n",
       "                                                      farine                           2\n",
       "                                                      pain de mie                      2\n",
       "                                                      blé                              1\n",
       "                                                      croutons                         1\n",
       "Fruits et légumes                                    ail                            183\n",
       "                                                      graine de sésame               136\n",
       "                                                      tomate                          96\n",
       "                                                      oignon                          91\n",
       "                                                      avocat                          84\n",
       "                                                      salade                          67\n",
       "                                                      carotte                         60\n",
       "                                                      pomme de terre                  57\n",
       "                                                      brocoli                         50\n",
       "                                                      citron                          48\n",
       "                                                      échalote                        43\n",
       "                                                      champignon                      41\n",
       "                                                      haricots verts                  29\n",
       "                                                      butternut                       22\n",
       "                                                                                    ... \n",
       "Produits sucrés ou sucrés et gras                   miel                             1\n",
       "Sel                                                   gros sel                        11\n",
       "                                                      fleur de sel                     3\n",
       "Viandes et charcuteries, produits de la pêche, oeufs  oeuf                            58\n",
       "                                                      blanc de poulet                 47\n",
       "                                                      jambon blanc                    32\n",
       "                                                      steak haché                     26\n",
       "                                                      lardons                         24\n",
       "                                                      pavé de saumon                  19\n",
       "                                                      escalope de poulet              14\n",
       "                                                      saumon fumé                     11\n",
       "                                                      saucisse fumée                  10\n",
       "                                                      thon                            10\n",
       "                                                      cuisse de poulet                 9\n",
       "                                                      poisson blanc                    8\n",
       "                                                      boeuf haché                      6\n",
       "                                                      cordon bleu                      5\n",
       "                                                      jambon de Parme                  5\n",
       "                                                      dinde                            4\n",
       "                                                      escalope de veau                 4\n",
       "                                                      pavé de cabillaud                4\n",
       "                                                      poisson pané                     4\n",
       "                                                      anchois                          3\n",
       "                                                      poulet                           3\n",
       "                                                      saumon                           3\n",
       "                                                      bresaola                         2\n",
       "                                                      cabillaud                        2\n",
       "                                                      merlan                           2\n",
       "                                                      filet de maquereau moutarde      1\n",
       "                                                      saucisse                         1\n",
       "Name: Name, Length: 169, dtype: int64"
      ]
     },
     "execution_count": 300,
     "metadata": {},
     "output_type": "execute_result"
    }
   ],
   "source": [
    "dataset.groupby(\"ParentCategory\").Name.value_counts()"
   ]
  },
  {
   "cell_type": "code",
   "execution_count": 5,
   "metadata": {},
   "outputs": [],
   "source": [
    "animal_categories = [\"Volaille\", \"Charcuterie\", \"Viande hors volaille\"]\n",
    "fish_categories = [\"Poissons gras\", \"Autres poissons, mollusques et crustacés\"]\n",
    "animal_based_categories = animal_categories + fish_categories + [\"Fromages\", \"Produits laitiers frais nature\" + \"Beurre et beurres allégés\"]\n",
    "\n",
    "  \n",
    "animal_foods = foods[foods['Category'].isin(animal_categories)]\n",
    "fish_foods = foods[foods['Category'].isin(fish_categories)]\n",
    "animal_based_foods = foods[foods['Category'].isin(animal_based_categories)]\n",
    "\n",
    "veggie_foods = pd.concat([foods, animal_foods, fish_foods]).drop_duplicates(keep=False)\n",
    "vegan_foods = pd.concat([foods, animal_based_foods]).drop_duplicates(keep=False)\n",
    "\n"
   ]
  },
  {
   "cell_type": "code",
   "execution_count": 496,
   "metadata": {
    "scrolled": true
   },
   "outputs": [
    {
     "data": {
      "text/html": [
       "<div>\n",
       "<style scoped>\n",
       "    .dataframe tbody tr th:only-of-type {\n",
       "        vertical-align: middle;\n",
       "    }\n",
       "\n",
       "    .dataframe tbody tr th {\n",
       "        vertical-align: top;\n",
       "    }\n",
       "\n",
       "    .dataframe thead th {\n",
       "        text-align: right;\n",
       "    }\n",
       "</style>\n",
       "<table border=\"1\" class=\"dataframe\">\n",
       "  <thead>\n",
       "    <tr style=\"text-align: right;\">\n",
       "      <th></th>\n",
       "      <th>Name</th>\n",
       "      <th>Availability</th>\n",
       "      <th>Tag list</th>\n",
       "      <th>Parent</th>\n",
       "      <th>Category</th>\n",
       "      <th>Rating [Category]</th>\n",
       "      <th>Parent [Category]</th>\n",
       "      <th>is_veggie</th>\n",
       "      <th>is_vegan</th>\n",
       "    </tr>\n",
       "  </thead>\n",
       "  <tbody>\n",
       "    <tr>\n",
       "      <th>0</th>\n",
       "      <td>huile d'olive</td>\n",
       "      <td>01, 02, 03, 04, 05, 06, 07, 08, 09, 10, 11, 12</td>\n",
       "      <td>-</td>\n",
       "      <td>-</td>\n",
       "      <td>Huiles végétales pauvres en ALA et margarines</td>\n",
       "      <td>-</td>\n",
       "      <td>Matières grasses ajoutées</td>\n",
       "      <td>1</td>\n",
       "      <td>1</td>\n",
       "    </tr>\n",
       "    <tr>\n",
       "      <th>1</th>\n",
       "      <td>steak haché</td>\n",
       "      <td>01, 02, 03, 04, 05, 06, 07, 08, 09, 10, 11, 12</td>\n",
       "      <td>-</td>\n",
       "      <td>boeuf</td>\n",
       "      <td>Viande hors volaille</td>\n",
       "      <td>limit</td>\n",
       "      <td>Viandes et charcuteries, produits de la pêche,...</td>\n",
       "      <td>0</td>\n",
       "      <td>0</td>\n",
       "    </tr>\n",
       "    <tr>\n",
       "      <th>2</th>\n",
       "      <td>pâtes</td>\n",
       "      <td>01, 02, 03, 04, 05, 06, 07, 08, 09, 10, 11, 12</td>\n",
       "      <td>-</td>\n",
       "      <td>-</td>\n",
       "      <td>Autres féculents complets</td>\n",
       "      <td>good</td>\n",
       "      <td>Féculents</td>\n",
       "      <td>1</td>\n",
       "      <td>1</td>\n",
       "    </tr>\n",
       "    <tr>\n",
       "      <th>3</th>\n",
       "      <td>semoule</td>\n",
       "      <td>01, 02, 03, 04, 05, 06, 07, 08, 09, 10, 11, 12</td>\n",
       "      <td>-</td>\n",
       "      <td>-</td>\n",
       "      <td>Autres féculents raffinés</td>\n",
       "      <td>limit</td>\n",
       "      <td>Féculents</td>\n",
       "      <td>1</td>\n",
       "      <td>1</td>\n",
       "    </tr>\n",
       "    <tr>\n",
       "      <th>4</th>\n",
       "      <td>tomate</td>\n",
       "      <td>05, 06, 07, 08, 09</td>\n",
       "      <td>-</td>\n",
       "      <td>-</td>\n",
       "      <td>Légumes</td>\n",
       "      <td>good</td>\n",
       "      <td>Fruits et légumes</td>\n",
       "      <td>1</td>\n",
       "      <td>1</td>\n",
       "    </tr>\n",
       "  </tbody>\n",
       "</table>\n",
       "</div>"
      ],
      "text/plain": [
       "            Name                                    Availability Tag list  \\\n",
       "0  huile d'olive  01, 02, 03, 04, 05, 06, 07, 08, 09, 10, 11, 12       -    \n",
       "1    steak haché  01, 02, 03, 04, 05, 06, 07, 08, 09, 10, 11, 12       -    \n",
       "2          pâtes  01, 02, 03, 04, 05, 06, 07, 08, 09, 10, 11, 12       -    \n",
       "3        semoule  01, 02, 03, 04, 05, 06, 07, 08, 09, 10, 11, 12       -    \n",
       "4         tomate                              05, 06, 07, 08, 09       -    \n",
       "\n",
       "  Parent                                         Category Rating [Category]  \\\n",
       "0     -   Huiles végétales pauvres en ALA et margarines                -    \n",
       "1  boeuf                             Viande hors volaille             limit   \n",
       "2     -                        Autres féculents complets              good   \n",
       "3     -                       Autres féculents raffinés             limit   \n",
       "4     -                                          Légumes              good   \n",
       "\n",
       "                                   Parent [Category]  is_veggie  is_vegan  \n",
       "0                        Matières grasses ajoutées          1         1  \n",
       "1  Viandes et charcuteries, produits de la pêche,...          0         0  \n",
       "2                                         Féculents          1         1  \n",
       "3                                         Féculents          1         1  \n",
       "4                                 Fruits et légumes          1         1  "
      ]
     },
     "execution_count": 496,
     "metadata": {},
     "output_type": "execute_result"
    }
   ],
   "source": [
    "foods[\"is_veggie\"] = foods.Category.apply(lambda x: 0 if x in animal_categories\n",
    "                                             else 1)\n",
    "foods[\"is_vegan\"] = foods.Category.apply(lambda x: 0 if x in animal_based_categories\n",
    "                                             else 1)\n",
    "\n",
    "foods.head()"
   ]
  },
  {
   "cell_type": "code",
   "execution_count": 217,
   "metadata": {},
   "outputs": [],
   "source": [
    "recipes = pd.read_csv(\"/Users/vincentsalamand/Downloads/recipe_2019-03-05_14h21m53.csv\")\n",
    "foods = pd.read_csv(\"/Users/vincentsalamand/Downloads/food_2019-03-05_11h03m15.csv\")\n",
    "items = pd.read_csv(\"/Users/vincentsalamand/Downloads/item_2019-03-05_11h04m18.csv\")\n",
    "\n",
    "recipes = recipes[recipes.Status.str.contains(\"published\")]\n",
    "\n",
    "items = items.rename(columns={ items.columns[2]: \"FoodName\", items.columns[3]: \"IdRecipe\" })\n",
    "foods = foods.rename(columns={ \"Name [Category]\": \"Category\" })\n",
    "\n",
    "foods[\"not_veggie\"] = foods.Category.apply(lambda x: 1 if x in animal_categories\n",
    "                                             else 0)\n",
    "foods[\"not_vegan\"] = foods.Category.apply(lambda x: 1 if x in animal_based_categories\n",
    "                                             else 0)\n",
    "\n",
    "dataset = pd.merge(foods, items, left_on = 'Name', right_on = 'FoodName')\n",
    "dataset = pd.merge(recipes, dataset, left_on = 'Id', right_on = 'IdRecipe')\n",
    "dataset = dataset.drop([\"Id_y\", \"Recipe ingredient\", \"FoodName\", \"IdRecipe\"], axis=1)\n",
    "\n",
    "dataset = dataset.rename(columns={ \"Name [Category]\": \"Category\", \"Parent [Category]\": \"ParentCategory\" })\n",
    "dataset = dataset[dataset.Status.str.contains(\"published\")]\n"
   ]
  },
  {
   "cell_type": "code",
   "execution_count": 219,
   "metadata": {},
   "outputs": [
    {
     "data": {
      "text/plain": [
       "Id_x          6395.172414\n",
       "not_veggie       0.413793\n",
       "not_vegan        0.816810\n",
       "dtype: float64"
      ]
     },
     "execution_count": 219,
     "metadata": {},
     "output_type": "execute_result"
    }
   ],
   "source": [
    "diets = dataset.groupby(\"Title\").sum()\n",
    "diets.mean()"
   ]
  },
  {
   "cell_type": "code",
   "execution_count": 220,
   "metadata": {},
   "outputs": [
    {
     "data": {
      "text/html": [
       "<div>\n",
       "<style scoped>\n",
       "    .dataframe tbody tr th:only-of-type {\n",
       "        vertical-align: middle;\n",
       "    }\n",
       "\n",
       "    .dataframe tbody tr th {\n",
       "        vertical-align: top;\n",
       "    }\n",
       "\n",
       "    .dataframe thead th {\n",
       "        text-align: right;\n",
       "    }\n",
       "</style>\n",
       "<table border=\"1\" class=\"dataframe\">\n",
       "  <thead>\n",
       "    <tr style=\"text-align: right;\">\n",
       "      <th></th>\n",
       "      <th>Id</th>\n",
       "      <th>Title</th>\n",
       "      <th>Ingredients</th>\n",
       "      <th>Instructions</th>\n",
       "      <th>Status</th>\n",
       "      <th>Rating</th>\n",
       "      <th>is_veggie</th>\n",
       "      <th>is_vegan</th>\n",
       "    </tr>\n",
       "  </thead>\n",
       "  <tbody>\n",
       "    <tr>\n",
       "      <th>654</th>\n",
       "      <td>657</td>\n",
       "      <td>Saumon grillé, riz basmati, brocoli, asperge, ...</td>\n",
       "      <td>brocoli\\r\\nasperge\\r\\ngraine de sésame\\r\\nriz ...</td>\n",
       "      <td>&lt;strong&gt;Saumon grillé:&lt;/strong&gt; Faire chauffer...</td>\n",
       "      <td>published</td>\n",
       "      <td>limit</td>\n",
       "      <td>1</td>\n",
       "      <td>0</td>\n",
       "    </tr>\n",
       "    <tr>\n",
       "      <th>655</th>\n",
       "      <td>658</td>\n",
       "      <td>Saumon grillé, pâtes, haricots verts, graines ...</td>\n",
       "      <td>haricot vert\\r\\ngraine de sésame\\r\\npâtes\\r\\np...</td>\n",
       "      <td>&lt;strong&gt;Saumon grillé:&lt;/strong&gt; Faire chauffer...</td>\n",
       "      <td>published</td>\n",
       "      <td>good</td>\n",
       "      <td>1</td>\n",
       "      <td>0</td>\n",
       "    </tr>\n",
       "    <tr>\n",
       "      <th>656</th>\n",
       "      <td>659</td>\n",
       "      <td>Saumon grillé, quinoa, asperge</td>\n",
       "      <td>asperge\\r\\nquinoa\\r\\npavé de saumon</td>\n",
       "      <td>&lt;strong&gt;Saumon grillé:&lt;/strong&gt; Faire chauffer...</td>\n",
       "      <td>published</td>\n",
       "      <td>limit</td>\n",
       "      <td>1</td>\n",
       "      <td>0</td>\n",
       "    </tr>\n",
       "    <tr>\n",
       "      <th>657</th>\n",
       "      <td>660</td>\n",
       "      <td>Poulet grillé, quinoa, asperge</td>\n",
       "      <td>asperge\\r\\nquinoa\\r\\nblanc de poulet</td>\n",
       "      <td>&lt;strong&gt;Poulet grillé:&lt;/strong&gt; Faire chauffer...</td>\n",
       "      <td>published</td>\n",
       "      <td>limit</td>\n",
       "      <td>0</td>\n",
       "      <td>0</td>\n",
       "    </tr>\n",
       "    <tr>\n",
       "      <th>658</th>\n",
       "      <td>661</td>\n",
       "      <td>Oeufs brouillés, avocat, salade verte, vinaigr...</td>\n",
       "      <td>avocat\\r\\nsalade\\r\\ngraine de sésame\\r\\noeuf\\r...</td>\n",
       "      <td>&lt;strong&gt;Oeufs brouillés:&lt;/strong&gt; Mélanger les...</td>\n",
       "      <td>published</td>\n",
       "      <td>good</td>\n",
       "      <td>1</td>\n",
       "      <td>1</td>\n",
       "    </tr>\n",
       "  </tbody>\n",
       "</table>\n",
       "</div>"
      ],
      "text/plain": [
       "      Id                                              Title  \\\n",
       "654  657  Saumon grillé, riz basmati, brocoli, asperge, ...   \n",
       "655  658  Saumon grillé, pâtes, haricots verts, graines ...   \n",
       "656  659                     Saumon grillé, quinoa, asperge   \n",
       "657  660                     Poulet grillé, quinoa, asperge   \n",
       "658  661  Oeufs brouillés, avocat, salade verte, vinaigr...   \n",
       "\n",
       "                                           Ingredients  \\\n",
       "654  brocoli\\r\\nasperge\\r\\ngraine de sésame\\r\\nriz ...   \n",
       "655  haricot vert\\r\\ngraine de sésame\\r\\npâtes\\r\\np...   \n",
       "656                asperge\\r\\nquinoa\\r\\npavé de saumon   \n",
       "657               asperge\\r\\nquinoa\\r\\nblanc de poulet   \n",
       "658  avocat\\r\\nsalade\\r\\ngraine de sésame\\r\\noeuf\\r...   \n",
       "\n",
       "                                          Instructions     Status Rating  \\\n",
       "654  <strong>Saumon grillé:</strong> Faire chauffer...  published  limit   \n",
       "655  <strong>Saumon grillé:</strong> Faire chauffer...  published   good   \n",
       "656  <strong>Saumon grillé:</strong> Faire chauffer...  published  limit   \n",
       "657  <strong>Poulet grillé:</strong> Faire chauffer...  published  limit   \n",
       "658  <strong>Oeufs brouillés:</strong> Mélanger les...  published   good   \n",
       "\n",
       "     is_veggie  is_vegan  \n",
       "654          1         0  \n",
       "655          1         0  \n",
       "656          1         0  \n",
       "657          0         0  \n",
       "658          1         1  "
      ]
     },
     "execution_count": 220,
     "metadata": {},
     "output_type": "execute_result"
    }
   ],
   "source": [
    "recipes[\"is_veggie\"] = 0\n",
    "recipes[\"is_vegan\"] = 0\n",
    "\n",
    "for i in range(len(diets)):\n",
    "    index = recipes[recipes.Title == diets.iloc[i].name].index.values.astype(int)[0]\n",
    "    if diets.iloc[i].not_veggie == 0:\n",
    "        recipes.at[index, 'is_veggie'] = 1 \n",
    "    if diets.iloc[i].not_vegan == 0:\n",
    "        recipes.at[index, 'is_vegan'] = 1 \n",
    "\n",
    "veggie_recipes = recipes[recipes.is_veggie == 1]\n",
    "vegan_recipes = recipes[recipes.is_vegan == 1]\n",
    "\n",
    "recipes.head()"
   ]
  },
  {
   "cell_type": "code",
   "execution_count": 221,
   "metadata": {
    "scrolled": true
   },
   "outputs": [
    {
     "data": {
      "text/plain": [
       "Id           901.366379\n",
       "is_veggie      0.601293\n",
       "is_vegan       0.351293\n",
       "dtype: float64"
      ]
     },
     "execution_count": 221,
     "metadata": {},
     "output_type": "execute_result"
    }
   ],
   "source": [
    "recipes.mean()"
   ]
  },
  {
   "cell_type": "code",
   "execution_count": 162,
   "metadata": {},
   "outputs": [
    {
     "data": {
      "text/plain": [
       "<matplotlib.axes._subplots.AxesSubplot at 0x1a1cc24da0>"
      ]
     },
     "execution_count": 162,
     "metadata": {},
     "output_type": "execute_result"
    },
    {
     "data": {
      "image/png": "[encoded data removed]",
      "text/plain": [
       "<Figure size 432x288 with 1 Axes>"
      ]
     },
     "metadata": {
      "needs_background": "light"
     },
     "output_type": "display_data"
    }
   ],
   "source": [
    "sns.countplot(recipes.is_veggie)"
   ]
  },
  {
   "cell_type": "code",
   "execution_count": 173,
   "metadata": {
    "scrolled": true
   },
   "outputs": [
    {
     "data": {
      "text/plain": [
       "<matplotlib.axes._subplots.AxesSubplot at 0x1a1c7d0e48>"
      ]
     },
     "execution_count": 173,
     "metadata": {},
     "output_type": "execute_result"
    },
    {
     "data": {
      "image/png": "[encoded data removed]",
      "text/plain": [
       "<Figure size 432x288 with 1 Axes>"
      ]
     },
     "metadata": {
      "needs_background": "light"
     },
     "output_type": "display_data"
    }
   ],
   "source": [
    "veggie_recipes[\"ingredients_count\"]= veggie_recipes.Title.map(dataset.Title.value_counts())\n",
    "\n",
    "sns.countplot(veggie_recipes.ingredients_count)"
   ]
  },
  {
   "cell_type": "code",
   "execution_count": 174,
   "metadata": {
    "scrolled": true
   },
   "outputs": [
    {
     "data": {
      "text/plain": [
       "<matplotlib.axes._subplots.AxesSubplot at 0x1a1ccbcc50>"
      ]
     },
     "execution_count": 174,
     "metadata": {},
     "output_type": "execute_result"
    },
    {
     "data": {
      "image/png": "[encoded data removed]",
      "text/plain": [
       "<Figure size 432x288 with 1 Axes>"
      ]
     },
     "metadata": {
      "needs_background": "light"
     },
     "output_type": "display_data"
    }
   ],
   "source": [
    "veggie_recipes[\"grocery_list_size\"] = veggie_recipes.ingredients_count.apply(lambda x: \"XL\" if x > 15 \n",
    "                                             else \"L\" if x > 10  \n",
    "                                             else \"M\" if x > 5 \n",
    "                                             else \"S\")\n",
    "\n",
    "veggie_recipes.groupby(\"grocery_list_size\").Title.count() \n",
    "sns.countplot(veggie_recipes.grocery_list_size)"
   ]
  },
  {
   "cell_type": "code",
   "execution_count": 163,
   "metadata": {
    "scrolled": true
   },
   "outputs": [
    {
     "data": {
      "text/plain": [
       "<matplotlib.axes._subplots.AxesSubplot at 0x1a1ca7b9e8>"
      ]
     },
     "execution_count": 163,
     "metadata": {},
     "output_type": "execute_result"
    },
    {
     "data": {
      "image/png": "[encoded data removed]",
      "text/plain": [
       "<Figure size 432x288 with 1 Axes>"
      ]
     },
     "metadata": {
      "needs_background": "light"
     },
     "output_type": "display_data"
    }
   ],
   "source": [
    "sns.countplot(recipes.is_vegan)"
   ]
  },
  {
   "cell_type": "code",
   "execution_count": 178,
   "metadata": {
    "scrolled": true
   },
   "outputs": [
    {
     "data": {
      "text/plain": [
       "<matplotlib.axes._subplots.AxesSubplot at 0x1a1cebb828>"
      ]
     },
     "execution_count": 178,
     "metadata": {},
     "output_type": "execute_result"
    },
    {
     "data": {
      "image/png": "[encoded data removed]",
      "text/plain": [
       "<Figure size 432x288 with 1 Axes>"
      ]
     },
     "metadata": {
      "needs_background": "light"
     },
     "output_type": "display_data"
    }
   ],
   "source": [
    "vegan_recipes[\"ingredients_count\"]= vegan_recipes.Title.map(dataset.Title.value_counts())\n",
    "\n",
    "sns.countplot(vegan_recipes.ingredients_count)"
   ]
  },
  {
   "cell_type": "code",
   "execution_count": 181,
   "metadata": {
    "scrolled": true
   },
   "outputs": [
    {
     "data": {
      "text/plain": [
       "<matplotlib.axes._subplots.AxesSubplot at 0x1a1c333710>"
      ]
     },
     "execution_count": 181,
     "metadata": {},
     "output_type": "execute_result"
    },
    {
     "data": {
      "image/png": "[encoded data removed]",
      "text/plain": [
       "<Figure size 432x288 with 1 Axes>"
      ]
     },
     "metadata": {
      "needs_background": "light"
     },
     "output_type": "display_data"
    }
   ],
   "source": [
    "vegan_recipes[\"grocery_list_size\"] = vegan_recipes.ingredients_count.apply(lambda x: \"XL\" if x > 15 \n",
    "                                             else \"L\" if x > 10  \n",
    "                                             else \"M\" if x > 5 \n",
    "                                             else \"S\")\n",
    "\n",
    "vegan_recipes.groupby(\"grocery_list_size\").Title.count() \n",
    "sns.countplot(vegan_recipes.grocery_list_size)"
   ]
  },
  {
   "cell_type": "code",
   "execution_count": 201,
   "metadata": {},
   "outputs": [
    {
     "data": {
      "text/plain": [
       "huile d'olive          228\n",
       "ail                    183\n",
       "graine de sésame       136\n",
       "tomate                  96\n",
       "moutarde                92\n",
       "oignon                  91\n",
       "persil                  90\n",
       "vinaigre balsamique     84\n",
       "avocat                  84\n",
       "salade                  67\n",
       "riz                     63\n",
       "carotte                 60\n",
       "oeuf                    58\n",
       "pomme de terre          57\n",
       "pâtes                   52\n",
       "brocoli                 50\n",
       "basilic                 48\n",
       "crème fraîche           48\n",
       "citron                  48\n",
       "échalote                43\n",
       "champignon              41\n",
       "quinoa                  38\n",
       "thym                    36\n",
       "cumin                   34\n",
       "petit pois              34\n",
       "romarin                 31\n",
       "paprika                 31\n",
       "lentille                30\n",
       "curcuma                 30\n",
       "herbes de provence      30\n",
       "                      ... \n",
       "betterave                3\n",
       "yaourt nature            2\n",
       "pain de mie              2\n",
       "navet                    2\n",
       "mayonnaise               2\n",
       "aneth                    2\n",
       "bouillon de légumes      2\n",
       "farine                   2\n",
       "concentré de tomate      2\n",
       "haricot plat             1\n",
       "piment                   1\n",
       "pâte de curry            1\n",
       "blé                      1\n",
       "cassis                   1\n",
       "coriandre                1\n",
       "haricot sec              1\n",
       "flageolet                1\n",
       "huile de coco            1\n",
       "poivron rouge            1\n",
       "huile de colza           1\n",
       "croutons                 1\n",
       "câpre                    1\n",
       "fenouil                  1\n",
       "lait de coco             1\n",
       "huile de noix            1\n",
       "miel                     1\n",
       "tabasco                  1\n",
       "vinaigre de vin          1\n",
       "aubergine                1\n",
       "muscade                  1\n",
       "Name: Name, Length: 132, dtype: int64"
      ]
     },
     "execution_count": 201,
     "metadata": {},
     "output_type": "execute_result"
    }
   ],
   "source": [
    "top_vegan_foods = dataset[dataset.Name.isin(vegan_foods.Name)].Name.value_counts()\n",
    "top_vegan_foods\n",
    "\n"
   ]
  }
 ],
 "metadata": {
  "kernelspec": {
   "display_name": "Python 3",
   "language": "python",
   "name": "python3"
  },
  "language_info": {
   "codemirror_mode": {
    "name": "ipython",
    "version": 3
   },
   "file_extension": ".py",
   "mimetype": "text/x-python",
   "name": "python",
   "nbconvert_exporter": "python",
   "pygments_lexer": "ipython3",
   "version": "3.7.1"
  }
 },
 "nbformat": 4,
 "nbformat_minor": 2
}
