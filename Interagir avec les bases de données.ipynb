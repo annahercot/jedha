{
 "cells": [
  {
   "cell_type": "markdown",
   "metadata": {},
   "source": [
    "# Imports"
   ]
  },
  {
   "cell_type": "code",
   "execution_count": 14,
   "metadata": {
    "ExecuteTime": {
     "end_time": "2018-12-15T12:34:37.752839Z",
     "start_time": "2018-12-15T12:34:37.248974Z"
    }
   },
   "outputs": [],
   "source": [
    "import pandas as pd\n",
    "\n",
    "import sqlalchemy"
   ]
  },
  {
   "cell_type": "markdown",
   "metadata": {},
   "source": [
    "# Creér la connexion"
   ]
  },
  {
   "cell_type": "code",
   "execution_count": null,
   "metadata": {
    "ExecuteTime": {
     "end_time": "2018-12-17T07:14:58.010892Z",
     "start_time": "2018-12-17T07:14:57.941829Z"
    }
   },
   "outputs": [],
   "source": [
    "user = \"jedha@bddserverstudent\"\n",
    "pwd = \"Azertyuiop123\"\n",
    "server = \"bddserverstudent.postgres.database.azure.com:5432\"\n",
    "database = \"bddstudent\"\n",
    "\n",
    "connexion_string = \"postgresql://{0}:{1}@{2}/{3}\".format(user, pwd, server, database)\n",
    "\n",
    "print(\"BDD connexion_string : \", connexion_string)\n",
    "\n",
    "engine = sqlalchemy.create_engine(connexion_string)\n",
    "engine.connect()"
   ]
  },
  {
   "cell_type": "markdown",
   "metadata": {},
   "source": [
    "# Charger des données"
   ]
  },
  {
   "cell_type": "code",
   "execution_count": 38,
   "metadata": {
    "ExecuteTime": {
     "end_time": "2018-12-15T12:48:31.975970Z",
     "start_time": "2018-12-15T12:48:31.972480Z"
    }
   },
   "outputs": [],
   "source": [
    "data = [\n",
    "    {\"Col1\": 1, \"Col2\": \"A\"},\n",
    "    {\"Col1\": 2, \"Col2\": \"B\"},\n",
    "    {\"Col1\": 3, \"Col2\": \"C\"}\n",
    "]\n",
    "\n",
    "df_test = pd.DataFrame(data)"
   ]
  },
  {
   "cell_type": "code",
   "execution_count": 39,
   "metadata": {
    "ExecuteTime": {
     "end_time": "2018-12-15T12:48:33.795909Z",
     "start_time": "2018-12-15T12:48:32.194730Z"
    }
   },
   "outputs": [],
   "source": [
    "df_test.to_sql(\"table_1\", engine, index=False, if_exists=\"replace\")"
   ]
  },
  {
   "cell_type": "markdown",
   "metadata": {},
   "source": [
    "# Récupérer des données"
   ]
  },
  {
   "cell_type": "code",
   "execution_count": 53,
   "metadata": {
    "ExecuteTime": {
     "end_time": "2018-12-15T12:50:43.156120Z",
     "start_time": "2018-12-15T12:50:43.037864Z"
    }
   },
   "outputs": [],
   "source": [
    "df_test = pd.read_sql(\"SELECT * FROM table_1\", engine)"
   ]
  },
  {
   "cell_type": "markdown",
   "metadata": {},
   "source": [
    "# Ressources"
   ]
  },
  {
   "cell_type": "code",
   "execution_count": 24,
   "metadata": {
    "ExecuteTime": {
     "end_time": "2018-12-15T12:39:15.018896Z",
     "start_time": "2018-12-15T12:39:15.016196Z"
    }
   },
   "outputs": [
    {
     "name": "stdout",
     "output_type": "stream",
     "text": [
      "Doc Microsoft pour Azure Postgres : \n",
      "https://docs.microsoft.com/fr-fr/azure/postgresql/quickstart-create-server-database-portal\n"
     ]
    }
   ],
   "source": [
    "print(\"Doc Microsoft pour Azure Postgres : \")\n",
    "\n",
    "print(\"https://docs.microsoft.com/fr-fr/azure/postgresql/quickstart-create-server-database-portal\")"
   ]
  },
  {
   "cell_type": "code",
   "execution_count": 27,
   "metadata": {
    "ExecuteTime": {
     "end_time": "2018-12-15T12:39:51.057049Z",
     "start_time": "2018-12-15T12:39:51.054297Z"
    }
   },
   "outputs": [
    {
     "name": "stdout",
     "output_type": "stream",
     "text": [
      "Commande de connexion depuis la console : \n",
      "psql --host=bddserverstudent.postgres.database.azure.com --port=5432 --username=jedha@bddserverstudent --dbname=postgres\n"
     ]
    }
   ],
   "source": [
    "print(\"Commande de connexion depuis la console Azure : \")\n",
    "\n",
    "print(\"psql --host=bddserverstudent.postgres.database.azure.com --port=5432 --username=jedha@bddserverstudent --dbname=postgres\")"
   ]
  },
  {
   "cell_type": "code",
   "execution_count": null,
   "metadata": {},
   "outputs": [],
   "source": []
  }
 ],
 "metadata": {
  "kernelspec": {
   "display_name": "Python 3",
   "language": "python",
   "name": "python3"
  },
  "language_info": {
   "codemirror_mode": {
    "name": "ipython",
    "version": 3
   },
   "file_extension": ".py",
   "mimetype": "text/x-python",
   "name": "python",
   "nbconvert_exporter": "python",
   "pygments_lexer": "ipython3",
   "version": "3.6.8"
  }
 },
 "nbformat": 4,
 "nbformat_minor": 2
}
